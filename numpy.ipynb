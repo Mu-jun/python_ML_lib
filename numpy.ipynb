{
 "cells": [
  {
   "cell_type": "code",
   "execution_count": 1,
   "id": "b00b1f1c",
   "metadata": {},
   "outputs": [],
   "source": [
    "import numpy as np"
   ]
  },
  {
   "cell_type": "code",
   "execution_count": 2,
   "id": "e9426a43",
   "metadata": {},
   "outputs": [
    {
     "name": "stdout",
     "output_type": "stream",
     "text": [
      "[1. 2. 3.] [ 5. 10. 15.]\n",
      "<class 'numpy.ndarray'> <class 'numpy.ndarray'>\n"
     ]
    }
   ],
   "source": [
    "# 1차원 배열 생성\n",
    "x1 = np.array([1.0,2.0,3.0])\n",
    "x2 = np.array([5.0,10.0,15.0])\n",
    "print(x1,x2)\n",
    "print(type(x1),type(x2))"
   ]
  },
  {
   "cell_type": "code",
   "execution_count": 3,
   "id": "8cde03f0",
   "metadata": {},
   "outputs": [
    {
     "name": "stdout",
     "output_type": "stream",
     "text": [
      "[[1. 2.]\n",
      " [3. 4.]]\n",
      "\n",
      "[[ 5. 10.]\n",
      " [15. 20.]]\n",
      "<class 'numpy.ndarray'> <class 'numpy.ndarray'>\n"
     ]
    }
   ],
   "source": [
    "# 2차원 배열 생성\n",
    "y1 = np.array([[1.0,2.0],[3.0,4.0]])\n",
    "y2 = np.array([[5.0,10.0],[15.0,20.0]])\n",
    "print(y1); print()\n",
    "print(y2)\n",
    "print(type(y1),type(y2))"
   ]
  },
  {
   "cell_type": "code",
   "execution_count": 4,
   "id": "750c8595",
   "metadata": {},
   "outputs": [
    {
     "name": "stdout",
     "output_type": "stream",
     "text": [
      "1.0\n",
      "1.0\n"
     ]
    }
   ],
   "source": [
    "# numpy 원소에 접근 : x1[0] -> 1.0\n",
    "print(x1[0])\n",
    "print(y1[0][0])"
   ]
  },
  {
   "cell_type": "code",
   "execution_count": 5,
   "id": "00a3bb1f",
   "metadata": {},
   "outputs": [
    {
     "name": "stdout",
     "output_type": "stream",
     "text": [
      "<class 'list'> <class 'numpy.ndarray'>\n"
     ]
    }
   ],
   "source": [
    "# 리스트를 넘파이 배열로\n",
    "a_list = [1.0,2.0,3.0]\n",
    "a_np = np.array(a_list)\n",
    "print(type(a_list),type(a_np))"
   ]
  },
  {
   "cell_type": "code",
   "execution_count": 23,
   "id": "497f0558",
   "metadata": {},
   "outputs": [
    {
     "name": "stdout",
     "output_type": "stream",
     "text": [
      "1\n",
      "(20,)\n",
      "20\n",
      "[ 0  1  2  3  4  5  6  7  8  9 10 11 12 13 14 15 16 17 18 19]\n",
      "2\n",
      "(4, 5)\n",
      "20\n",
      "[[ 0  1  2  3  4]\n",
      " [ 5  6  7  8  9]\n",
      " [10 11 12 13 14]\n",
      " [15 16 17 18 19]]\n",
      "3\n",
      "(2, 2, 5)\n",
      "20\n",
      "int32\n",
      "int32\n",
      "4\n",
      "[[[ 0  1  2  3  4]\n",
      "  [ 5  6  7  8  9]]\n",
      "\n",
      " [[10 11 12 13 14]\n",
      "  [15 16 17 18 19]]]\n",
      "2\n",
      "(4, 5)\n",
      "20\n",
      "float64\n",
      "float64\n",
      "8\n",
      "[[-5.  -4.5 -4.  -3.5 -3. ]\n",
      " [-2.5 -2.  -1.5 -1.  -0.5]\n",
      " [ 0.   0.5  1.   1.5  2. ]\n",
      " [ 2.5  3.   3.5  4.   4.5]]\n"
     ]
    }
   ],
   "source": [
    "a = np.arange(20) # 0~14까지\n",
    "print(a.ndim)\n",
    "print(a.shape)\n",
    "print(a.size)\n",
    "print(a)\n",
    "a = a.reshape(4,5) #  3행 5열로 만들어 넣는다.\n",
    "print(a.ndim)\n",
    "print(a.shape)\n",
    "print(a.size)\n",
    "print(a)\n",
    "a = np.arange(20).reshape(2,2,5)\n",
    "print(a.ndim)\n",
    "print(a.shape)\n",
    "print(a.size)\n",
    "print(a.dtype)\n",
    "print(a.dtype.name)\n",
    "print(a.dtype.itemsize)\n",
    "print(a)\n",
    "a = np.arange(-5,5,0.5).reshape(4,5)\n",
    "print(a.ndim)\n",
    "print(a.shape)\n",
    "print(a.size)\n",
    "print(a.dtype)\n",
    "print(a.dtype.name)\n",
    "print(a.dtype.itemsize)\n",
    "print(a)"
   ]
  },
  {
   "cell_type": "code",
   "execution_count": 7,
   "id": "fa6152c5",
   "metadata": {},
   "outputs": [
    {
     "name": "stdout",
     "output_type": "stream",
     "text": [
      "[[6.14400189e-312 3.16202013e-322 0.00000000e+000]\n",
      " [0.00000000e+000 6.13256784e-312 1.86386255e+160]\n",
      " [1.24561317e-047 1.08555006e-042 3.53802044e-057]\n",
      " [6.12390379e-062 1.86924533e-051 6.23194112e+174]]\n",
      "[0. 0. 0. 0. 0.]\n",
      "\n",
      "[[0. 0. 0.]\n",
      " [0. 0. 0.]]\n",
      "\n",
      "[[1 1 1 1]\n",
      " [1 1 1 1]\n",
      " [1 1 1 1]]\n",
      "int64 8\n",
      "[[1. 1. 1. 1.]\n",
      " [1. 1. 1. 1.]\n",
      " [1. 1. 1. 1.]]\n",
      "float32 4\n",
      "\n",
      "[['' '' '' '']\n",
      " ['' '' '' '']\n",
      " ['' '' '' '']]\n",
      "<U1 4\n"
     ]
    }
   ],
   "source": [
    "# 빈 배열 생성\n",
    "arr = np.empty((4,3)) # 4 by 3 인 배열 생성 -> 메모리에 있던 값이 들어옴.\n",
    "print(arr)\n",
    "\n",
    "# 초기값을 부여하면서 array 생성\n",
    "# 초기값 0\n",
    "arr = np.zeros(5) # 1차원 배열 5행인 배열 -> 초기값 0\n",
    "print(arr); print()\n",
    "arr = np.zeros((2,3))\n",
    "print(arr); print()\n",
    "\n",
    "# 초기값 1\n",
    "arr = np.ones((3,4) , dtype='i8') # dtype = 'i' 정수로, 'f' : 실수, 'U' : 문자\n",
    "print(arr)\n",
    "print(arr.dtype, arr.dtype.itemsize)\n",
    "\n",
    "# 기존 배열 초기화시키기\n",
    "arr = np.ones_like(arr, dtype='f')\n",
    "print(arr)\n",
    "print(arr.dtype, arr.dtype.itemsize)\n",
    "print()\n",
    "\n",
    "arr = np.zeros_like(arr, dtype='U')\n",
    "print(arr)\n",
    "print(arr.dtype, arr.dtype.itemsize)"
   ]
  },
  {
   "cell_type": "code",
   "execution_count": 19,
   "id": "4b2f3284",
   "metadata": {},
   "outputs": [
    {
     "name": "stdout",
     "output_type": "stream",
     "text": [
      "x1과 y1\n",
      "[ 6. 12. 18.]\n",
      "\n",
      "[ -4.  -8. -12.]\n",
      "\n",
      "[ 5. 20. 45.]\n",
      "\n",
      "[0.2 0.2 0.2]\n",
      "\n",
      "x2과 y2\n",
      "[[ 6. 12.]\n",
      " [18. 24.]]\n",
      "\n",
      "[[ -4.  -8.]\n",
      " [-12. -16.]]\n",
      "\n",
      "[[ 5. 20.]\n",
      " [45. 80.]]\n",
      "\n",
      "[[0.2 0.2]\n",
      " [0.2 0.2]]\n",
      "\n",
      "x2과 z1\n",
      "[[0. 0.]\n",
      " [2. 2.]]\n",
      "\n",
      "[[2. 4.]\n",
      " [4. 6.]]\n",
      "\n",
      "[[-1. -4.]\n",
      " [-3. -8.]]\n",
      "\n",
      "[[-1. -1.]\n",
      " [-3. -2.]]\n",
      "\n",
      "x1과 z2\n",
      "[[ 6.  7.  8.]\n",
      " [11. 12. 13.]\n",
      " [16. 17. 18.]]\n",
      "\n",
      "[[ -4.  -3.  -2.]\n",
      " [ -9.  -8.  -7.]\n",
      " [-14. -13. -12.]]\n",
      "\n",
      "[[ 5. 10. 15.]\n",
      " [10. 20. 30.]\n",
      " [15. 30. 45.]]\n",
      "\n",
      "[[0.2        0.4        0.6       ]\n",
      " [0.1        0.2        0.3       ]\n",
      " [0.06666667 0.13333333 0.2       ]]\n",
      "\n"
     ]
    }
   ],
   "source": [
    "# array 연산\n",
    "x1 = np.array([1.0,2.0,3.0])\n",
    "y1 = np.array([5.0,10.0,15.0])\n",
    "x2 = np.array([[1.0,2.0],[3.0,4.0]])\n",
    "y2 = np.array([[5.0,10.0],[15.0,20.0]])\n",
    "z1 = np.array([-1.0,-2.0])\n",
    "z2 = np.array([[5.0],[10.0],[15.0]])\n",
    "\n",
    "print(\"x1과 y1\")\n",
    "print(x1 + y1); print()\n",
    "print(x1 - y1); print()\n",
    "print(x1 * y1); print()\n",
    "print(x1 / y1); print()\n",
    "print(\"x2과 y2\")\n",
    "print(x2 + y2); print()\n",
    "print(x2 - y2); print()\n",
    "print(x2 * y2); print()\n",
    "print(x2 / y2); print()\n",
    "print(\"x2과 z1\")\n",
    "print(x2 + z1); print()\n",
    "print(x2 - z1); print()\n",
    "print(x2 * z1); print()\n",
    "print(x2 / z1); print()\n",
    "print(\"x1과 z2\")\n",
    "print(x1 + z2); print()\n",
    "print(x1 - z2); print()\n",
    "print(x1 * z2); print()\n",
    "print(x1 / z2); print()"
   ]
  },
  {
   "cell_type": "code",
   "execution_count": 21,
   "id": "900aba13",
   "metadata": {},
   "outputs": [
    {
     "name": "stdout",
     "output_type": "stream",
     "text": [
      "[70.]\n",
      "[ -7. -10.]\n",
      "[-35. -50.]\n"
     ]
    }
   ],
   "source": [
    "x1 = np.array([1.0,2.0,3.0])\n",
    "y1 = np.array([5.0,10.0,15.0])\n",
    "x2 = np.array([[1.0,2.0],[3.0,4.0]])\n",
    "y2 = np.array([[5.0,10.0],[15.0,20.0]])\n",
    "z1 = np.array([-1.0,-2.0])\n",
    "z2 = np.array([[5.0],[10.0],[15.0]])\n",
    "\n",
    "print(x1@z2)\n",
    "print(np.dot(z1,x2))\n",
    "print(z1.dot(y2))"
   ]
  },
  {
   "cell_type": "code",
   "execution_count": 9,
   "id": "0ad42cde",
   "metadata": {},
   "outputs": [
    {
     "name": "stdout",
     "output_type": "stream",
     "text": [
      "[[ 5.]\n",
      " [10.]\n",
      " [15.]]\n",
      "\n",
      "[ 5. 10. 15.]\n"
     ]
    }
   ],
   "source": [
    "# 배열의 형 변환 ***\n",
    "print(z2); print()\n",
    "print(z2.flatten()) # 평탄화 시킴 : 모든 차수의 배열을 1차원으로"
   ]
  },
  {
   "cell_type": "code",
   "execution_count": 33,
   "id": "ac4cb740",
   "metadata": {},
   "outputs": [
    {
     "name": "stdout",
     "output_type": "stream",
     "text": [
      "[ 0  1  4  9 16 25 36 49 64 81]\n",
      "[ 9 16]\n",
      "4\n",
      "[81 64 49 36 25 16  9  4  1  0]\n",
      "[ 0  4 16]\n",
      "[  0   1  -4   9 -16  25  36  49  64  81]\n"
     ]
    }
   ],
   "source": [
    "# array인덱싱, 슬라이싱, 반복\n",
    "a = np.arange(10)**2\n",
    "print(a)\n",
    "print(a[3:5])\n",
    "print(a[2])\n",
    "print(a[::-1])\n",
    "print(a[0:6:2])\n",
    "a[0:6:2] = -a[0:6:2]\n",
    "print(a)"
   ]
  },
  {
   "cell_type": "code",
   "execution_count": 34,
   "id": "bca37319",
   "metadata": {
    "scrolled": true
   },
   "outputs": [
    {
     "name": "stdout",
     "output_type": "stream",
     "text": [
      "1 2 -3 10 -15 26 37 50 65 82 \n",
      "[2. 3.]\n",
      "[4. 5.]\n"
     ]
    }
   ],
   "source": [
    "# 반복문\n",
    "a = np.arange(10)**2\n",
    "for x in a:\n",
    "    print(x+1, end=' ')\n",
    "\n",
    "print()\n",
    "x2 = np.array([[1.0,2.0],[3.0,4.0]])\n",
    "for x in x2:\n",
    "    print(x+1)    "
   ]
  },
  {
   "cell_type": "code",
   "execution_count": 29,
   "id": "cab99866",
   "metadata": {},
   "outputs": [
    {
     "name": "stdout",
     "output_type": "stream",
     "text": [
      "[[ 1  2  3  4  5]\n",
      " [ 6  7  8  9 10]\n",
      " [11 12 13 14 15]\n",
      " [16 17 18 19 20]]\n",
      "\n",
      "12\n",
      "\n",
      "[[ 1  2  3  4  5]\n",
      " [ 6  7  8  9 10]]\n",
      "\n",
      "[ 6  7  8  9 10]\n",
      "\n",
      "[ 5 10 15 20]\n",
      "\n",
      "(4,)\n",
      "\n",
      "[[ 4  5]\n",
      " [ 9 10]\n",
      " [14 15]\n",
      " [19 20]]\n"
     ]
    }
   ],
   "source": [
    "a = np.arange(1,21,1).reshape(4,5)\n",
    "print(a); print()\n",
    "print(a[2,1]); print()\n",
    "print(a[:2,]); print()\n",
    "print(a[1,]); print()\n",
    "print(a[:,-1]); print()\n",
    "print(a[:,-1].shape); print()\n",
    "print(a[:,3:])"
   ]
  },
  {
   "cell_type": "code",
   "execution_count": 45,
   "id": "916035e8",
   "metadata": {},
   "outputs": [
    {
     "name": "stdout",
     "output_type": "stream",
     "text": [
      "[1 2 3 4 5]\n",
      "[ 0.84147098  0.90929743  0.14112001 -0.7568025  -0.95892427]\n",
      "[ 0.841  0.909  0.141 -0.757 -0.959]\n",
      "[ 0.54  -0.416 -0.99  -0.654  0.284]\n",
      "[0.762 0.964 0.995 0.999 1.   ]\n",
      "[  2.718   7.389  20.086  54.598 148.413]\n",
      "[0.    0.693 1.099 1.386 1.609]\n"
     ]
    }
   ],
   "source": [
    "# numpy의 함수\n",
    "a = np.arange(1, 6, 1)\n",
    "print(a)\n",
    "print(np.sin(a))\n",
    "print(np.sin(a).round(3))\n",
    "print(np.cos(a).round(3))\n",
    "print(np.tanh(a).round(3))\n",
    "print(np.exp(a).round(3))\n",
    "print(np.log(a).round(3))"
   ]
  },
  {
   "cell_type": "code",
   "execution_count": 49,
   "id": "c9a37c04",
   "metadata": {
    "scrolled": true
   },
   "outputs": [
    {
     "name": "stdout",
     "output_type": "stream",
     "text": [
      "[ 7  8 10 20]\n",
      "[ 1  5  9 10]\n",
      "34\n"
     ]
    }
   ],
   "source": [
    "a1 = np.array([7,8,9,10])\n",
    "a2 = np.array([1,5,10,20])\n",
    "print(np.maximum(a1,a2))\n",
    "print(np.minimum(a1,a2))\n",
    "print(np.sum(a1))"
   ]
  },
  {
   "cell_type": "code",
   "execution_count": 55,
   "id": "05a4c0fa",
   "metadata": {},
   "outputs": [
    {
     "name": "stdout",
     "output_type": "stream",
     "text": [
      "26\n",
      "4.8076923076923075\n",
      "115.23224852071006\n",
      "10.734628476137871\n",
      "23\n",
      "-24\n",
      "5.0\n",
      "-24.0\n",
      "0.0\n",
      "5.0\n",
      "10.0\n",
      "23.0\n"
     ]
    }
   ],
   "source": [
    "# 데이터의 개수(count)\n",
    "# 평균(mean, average)\n",
    "# 분산(variance)\n",
    "# 표준 편차(standard deviation)\n",
    "# 최댓값(maximum)\n",
    "# 최솟값(minimum)\n",
    "# 중앙값(median)\n",
    "# 사분위수(quartile)\n",
    "\n",
    "x = np.array([18,   5,  10,  23,  19,  -8,  10,   0,   0,   5,   2,  15,   8,\n",
    "              2,   5,   4,  15,  -1,   4,  -7, -24,   7,   9,  -6,  23, -13])\n",
    "print(len(x))  # 갯수\n",
    "print(np.mean(x))  # 평균\n",
    "print(np.var(x))  # 분산\n",
    "print(np.std(x))  # 표준 편차\n",
    "print(np.max(x))  # 최대값\n",
    "print(np.min(x))  # 최소값\n",
    "print(np.median(x))  # 중앙값\n",
    "print(np.percentile(x, 0)) # 최소값\n",
    "print(np.percentile(x, 25)) # 1사분위 수\n",
    "print(np.percentile(x, 50)) # 중앙값\n",
    "print(np.percentile(x, 75)) # 3사분위 수\n",
    "print(np.percentile(x, 100))  # 최대값"
   ]
  },
  {
   "cell_type": "code",
   "execution_count": 68,
   "id": "b70369da",
   "metadata": {},
   "outputs": [
    {
     "name": "stdout",
     "output_type": "stream",
     "text": [
      "[0.5488135  0.71518937 0.60276338 0.54488318 0.4236548 ]\n",
      "[-0.84272405  1.96992445  1.26611853 -0.50587654  2.54520078]\n"
     ]
    }
   ],
   "source": [
    "np.random.seed(0)  # 시작 숫자를 정해 주면 항상 같은 숫자의 난수 발생\n",
    "print(np.random.rand(5))  # 난수 5개 발생\n",
    "print(np.random.randn(5))"
   ]
  },
  {
   "cell_type": "code",
   "execution_count": 106,
   "id": "4c962ecd",
   "metadata": {
    "scrolled": true
   },
   "outputs": [
    {
     "name": "stdout",
     "output_type": "stream",
     "text": [
      "5\n",
      "[4]\n",
      "[1 5 8 3 5]\n",
      "[18 14 11 17 18]\n",
      "[[11 12 11 11 17]\n",
      " [15 10 14 11 11]\n",
      " [16 16 10 12 13]]\n"
     ]
    }
   ],
   "source": [
    "print(np.random.randint(10))\n",
    "print(np.random.randint(10, size=1))\n",
    "print(np.random.randint(10, size=5))\n",
    "print(np.random.randint(10, 20, size=5))\n",
    "print(np.random.randint(10, 20, size=(3, 5)))"
   ]
  },
  {
   "cell_type": "code",
   "execution_count": 82,
   "id": "382bc8ea",
   "metadata": {},
   "outputs": [
    {
     "name": "stdout",
     "output_type": "stream",
     "text": [
      "[0 1 2 3 4 5 6 7 8 9]\n",
      "[5 7 4 3 6 9 0 8 2 1]\n"
     ]
    }
   ],
   "source": [
    "x = np.arange(10)\n",
    "print(x)\n",
    "np.random.shuffle(x)  # 데이터 순서 바꿈\n",
    "print(x)"
   ]
  },
  {
   "cell_type": "code",
   "execution_count": 104,
   "id": "41119bc9",
   "metadata": {},
   "outputs": [
    {
     "name": "stdout",
     "output_type": "stream",
     "text": [
      "<class 'numpy.ndarray'>\n",
      "[8 6 4 5 7 1 2 3 9 0]\n",
      "[0 2 1]\n",
      "[3 2 0 1 0 1 1 4 2 2]\n",
      "[2 2 3 2 3 3 3 3 2 3]\n"
     ]
    }
   ],
   "source": [
    "print(type(np.random.choice(5,1, replace=False)))  # shuffle 명령과 같다.\n",
    "print(np.random.choice(x, len(x), replace=False))\n",
    "# \n",
    "print(np.random.choice(5, 3, replace=False))  # 중복x, 3개만 선택\n",
    "# \n",
    "print(np.random.choice(5, 10))  # 중복허용, 10개 선택\n",
    "# \n",
    "print(np.random.choice(5, 10, p=[0.1, 0, 0.3, 0.6, 0]))  # 선택 확률을 다르게 해서 10개 선택\n",
    "# "
   ]
  },
  {
   "cell_type": "code",
   "execution_count": 95,
   "id": "a82c597a",
   "metadata": {},
   "outputs": [
    {
     "name": "stdout",
     "output_type": "stream",
     "text": [
      "<function y at 0x000001218C1024C0>\n"
     ]
    }
   ],
   "source": [
    "def y():\n",
    "    pass\n",
    "print(y)"
   ]
  },
  {
   "cell_type": "code",
   "execution_count": 51,
   "id": "71435381",
   "metadata": {},
   "outputs": [
    {
     "name": "stdout",
     "output_type": "stream",
     "text": [
      "1\n",
      "10\n",
      "3\n",
      "2\n",
      "\n",
      "6\n",
      "[2 0 1]\n",
      "[1 2 0]\n"
     ]
    }
   ],
   "source": [
    "a = np.array([6,10,3,2,4,5])\n",
    "print(np.argmax(a)) # 가장 큰 값의 인덱스 반환\n",
    "print(a[np.argmax(a)])\n",
    "print(np.argmin(a)) # 가장 작은 값의 인덱스 반환\n",
    "print(a[np.argmin(a)])\n",
    "print()\n",
    "\n",
    "a = np.array([[1,8,2],[3,2,5],[9,5,3]])\n",
    "print(np.argmax(a))\n",
    "print(np.argmax(a,axis=0))\n",
    "print(np.argmax(a,axis=1))"
   ]
  },
  {
   "cell_type": "code",
   "execution_count": 17,
   "id": "65f8db64",
   "metadata": {},
   "outputs": [
    {
     "name": "stdout",
     "output_type": "stream",
     "text": [
      "[0.5488135  0.71518937 0.60276338 0.54488318 0.4236548 ]\n"
     ]
    }
   ],
   "source": [
    "np.random.seed(0) # 시드값을 넣어주면 매 실행마다 값이 바뀌지 않는다.\n",
    "print(np.random.rand(5))"
   ]
  },
  {
   "cell_type": "code",
   "execution_count": 18,
   "id": "9ccfac5d",
   "metadata": {},
   "outputs": [
    {
     "name": "stdout",
     "output_type": "stream",
     "text": [
      "[ 1  2  3  4  5  6  7  8  9 10 11 12 13 14 15 16 17 18 19 20]\n",
      "[ 3  6  9 12 15 18]\n",
      "[ 1  5  9 13 17]\n",
      "[9]\n"
     ]
    }
   ],
   "source": [
    "x = np.arange(1,21)\n",
    "print(x)\n",
    "print(x[x%3==0])\n",
    "print(x[x%4==1])\n",
    "print(x[(x%3==0) & (x%4==1)])"
   ]
  }
 ],
 "metadata": {
  "kernelspec": {
   "display_name": "Python 3 (ipykernel)",
   "language": "python",
   "name": "python3"
  },
  "language_info": {
   "codemirror_mode": {
    "name": "ipython",
    "version": 3
   },
   "file_extension": ".py",
   "mimetype": "text/x-python",
   "name": "python",
   "nbconvert_exporter": "python",
   "pygments_lexer": "ipython3",
   "version": "3.9.7"
  }
 },
 "nbformat": 4,
 "nbformat_minor": 5
}
