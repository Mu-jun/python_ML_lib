{
 "cells": [
  {
   "cell_type": "code",
   "execution_count": 2,
   "id": "b00b1f1c",
   "metadata": {},
   "outputs": [],
   "source": [
    "import numpy as np"
   ]
  },
  {
   "cell_type": "code",
   "execution_count": 2,
   "id": "e9426a43",
   "metadata": {},
   "outputs": [
    {
     "name": "stdout",
     "output_type": "stream",
     "text": [
      "[1. 2. 3.] [ 5. 10. 15.]\n",
      "<class 'numpy.ndarray'> <class 'numpy.ndarray'>\n"
     ]
    }
   ],
   "source": [
    "# 1차원 배열 생성\n",
    "x1 = np.array([1.0,2.0,3.0])\n",
    "x2 = np.array([5.0,10.0,15.0])\n",
    "print(x1,x2)\n",
    "print(type(x1),type(x2))"
   ]
  },
  {
   "cell_type": "code",
   "execution_count": 5,
   "id": "8cde03f0",
   "metadata": {},
   "outputs": [
    {
     "name": "stdout",
     "output_type": "stream",
     "text": [
      "[[1. 2.]\n",
      " [3. 4.]]\n",
      "\n",
      "[[ 5. 10.]\n",
      " [15. 20.]]\n",
      "<class 'numpy.ndarray'> <class 'numpy.ndarray'>\n"
     ]
    }
   ],
   "source": [
    "# 2차원 배열 생성\n",
    "y1 = np.array([[1.0,2.0],[3.0,4.0]])\n",
    "y2 = np.array([[5.0,10.0],[15.0,20.0]])\n",
    "print(y1); print()\n",
    "print(y2)\n",
    "print(type(y1),type(y2))"
   ]
  },
  {
   "cell_type": "code",
   "execution_count": 6,
   "id": "750c8595",
   "metadata": {},
   "outputs": [
    {
     "name": "stdout",
     "output_type": "stream",
     "text": [
      "1.0\n",
      "1.0\n"
     ]
    }
   ],
   "source": [
    "# numpy 원소에 접근 : x1[0] -> 1.0\n",
    "print(x1[0])\n",
    "print(y1[0][0])"
   ]
  },
  {
   "cell_type": "code",
   "execution_count": 7,
   "id": "00a3bb1f",
   "metadata": {},
   "outputs": [
    {
     "name": "stdout",
     "output_type": "stream",
     "text": [
      "<class 'list'> <class 'numpy.ndarray'>\n"
     ]
    }
   ],
   "source": [
    "# 리스트를 넘파이 배열로\n",
    "a_list = [1.0,2.0,3.0]\n",
    "a_np = np.array(a_list)\n",
    "print(type(a_list),type(a_np))"
   ]
  },
  {
   "cell_type": "code",
   "execution_count": 19,
   "id": "497f0558",
   "metadata": {},
   "outputs": [
    {
     "name": "stdout",
     "output_type": "stream",
     "text": [
      "1\n",
      "(15,)\n",
      "15\n",
      "\n",
      "2\n",
      "(3, 5)\n",
      "15\n",
      "\n",
      "3\n",
      "(2, 2, 5)\n",
      "20\n",
      "int32\n",
      "int32\n",
      "4\n",
      "\n",
      "2\n",
      "(4, 5)\n",
      "20\n",
      "float64\n",
      "float64\n",
      "8\n",
      "\n"
     ]
    }
   ],
   "source": [
    "a = np.arange(15) # 0~14까지\n",
    "print(a.ndim)\n",
    "print(a.shape)\n",
    "print(a.size)\n",
    "print()\n",
    "a = a.reshape(3,5) #  3행 5열로 만들어 넣는다.\n",
    "print(a.ndim)\n",
    "print(a.shape)\n",
    "print(a.size)\n",
    "print()\n",
    "a = np.arange(20).reshape(2,2,5)\n",
    "print(a.ndim)\n",
    "print(a.shape)\n",
    "print(a.size)\n",
    "print(a.dtype)\n",
    "print(a.dtype.name)\n",
    "print(a.dtype.itemsize)\n",
    "print()\n",
    "a = np.arange(-5,5,0.5).reshape(4,5)\n",
    "print(a.ndim)\n",
    "print(a.shape)\n",
    "print(a.size)\n",
    "print(a.dtype)\n",
    "print(a.dtype.name)\n",
    "print(a.dtype.itemsize)\n",
    "print()"
   ]
  },
  {
   "cell_type": "code",
   "execution_count": 33,
   "id": "fa6152c5",
   "metadata": {},
   "outputs": [
    {
     "name": "stdout",
     "output_type": "stream",
     "text": [
      "[[5.e-324 5.e-324 5.e-324]\n",
      " [5.e-324 5.e-324 5.e-324]\n",
      " [5.e-324 5.e-324 5.e-324]\n",
      " [5.e-324 5.e-324 5.e-324]]\n",
      "[0. 0. 0. 0. 0.]\n",
      "\n",
      "[[0. 0. 0.]\n",
      " [0. 0. 0.]]\n",
      "\n",
      "[[1 1 1 1]\n",
      " [1 1 1 1]\n",
      " [1 1 1 1]]\n",
      "int64 8\n",
      "[[1. 1. 1. 1.]\n",
      " [1. 1. 1. 1.]\n",
      " [1. 1. 1. 1.]]\n",
      "float32 4\n",
      "\n",
      "[['' '' '' '']\n",
      " ['' '' '' '']\n",
      " ['' '' '' '']]\n",
      "<U1 4\n"
     ]
    }
   ],
   "source": [
    "# 빈 배열 생성\n",
    "arr = np.empty((4,3)) # 4 by 3 인 배열 생성 -> 메모리에 있던 값이 들어옴.\n",
    "print(arr)\n",
    "\n",
    "# 초기값을 부여하면서 array 생성\n",
    "# 초기값 0\n",
    "arr = np.zeros(5) # 1차원 배열 5행인 배열 -> 초기값 0\n",
    "print(arr); print()\n",
    "arr = np.zeros((2,3))\n",
    "print(arr); print()\n",
    "\n",
    "# 초기값 1\n",
    "arr = np.ones((3,4) , dtype='i8') # dtype = 'i' 정수로, 'f' : 실수, 'U' : 문자\n",
    "print(arr)\n",
    "print(arr.dtype, arr.dtype.itemsize)\n",
    "\n",
    "# 기존 배열 초기화시키기\n",
    "arr = np.ones_like(arr, dtype='f')\n",
    "print(arr)\n",
    "print(arr.dtype, arr.dtype.itemsize)\n",
    "print()\n",
    "\n",
    "arr = np.zeros_like(arr, dtype='U')\n",
    "print(arr)\n",
    "print(arr.dtype, arr.dtype.itemsize)"
   ]
  },
  {
   "cell_type": "code",
   "execution_count": 37,
   "id": "4b2f3284",
   "metadata": {},
   "outputs": [
    {
     "name": "stdout",
     "output_type": "stream",
     "text": [
      "x1과 y1\n",
      "[ 6. 12. 18.]\n",
      "\n",
      "[ -4.  -8. -12.]\n",
      "\n",
      "[ 5. 20. 45.]\n",
      "\n",
      "[0.2 0.2 0.2]\n",
      "\n",
      "x2과 y2\n",
      "[[ 6. 12.]\n",
      " [18. 24.]]\n",
      "\n",
      "[[ -4.  -8.]\n",
      " [-12. -16.]]\n",
      "\n",
      "[[ 5. 20.]\n",
      " [45. 80.]]\n",
      "\n",
      "[[0.2 0.2]\n",
      " [0.2 0.2]]\n",
      "\n",
      "x2과 z1\n",
      "[[0. 0.]\n",
      " [2. 2.]]\n",
      "\n",
      "[[2. 4.]\n",
      " [4. 6.]]\n",
      "\n",
      "[[-1. -4.]\n",
      " [-3. -8.]]\n",
      "\n",
      "[[-1. -1.]\n",
      " [-3. -2.]]\n",
      "\n"
     ]
    }
   ],
   "source": [
    "# array 연사\n",
    "x1 = np.array([1.0,2.0,3.0])\n",
    "y1 = np.array([5.0,10.0,15.0])\n",
    "x2 = np.array([[1.0,2.0],[3.0,4.0]])\n",
    "y2 = np.array([[5.0,10.0],[15.0,20.0]])\n",
    "z1 = np.array([-1.0,-2.0])\n",
    "z2 = np.array([[5.0],[10.0],[15.0]])\n",
    "\n",
    "print(\"x1과 y1\")\n",
    "print(x1 + y1); print()\n",
    "print(x1 - y1); print()\n",
    "print(x1 * y1); print()\n",
    "print(x1 / y1); print()\n",
    "print(\"x2과 y2\")\n",
    "print(x2 + y2); print()\n",
    "print(x2 - y2); print()\n",
    "print(x2 * y2); print()\n",
    "print(x2 / y2); print()\n",
    "print(\"x2과 z1\")\n",
    "print(x2 + z1); print()\n",
    "print(x2 - z1); print()\n",
    "print(x2 * z1); print()\n",
    "print(x2 / z1); print()"
   ]
  },
  {
   "cell_type": "code",
   "execution_count": 44,
   "id": "0ad42cde",
   "metadata": {},
   "outputs": [
    {
     "name": "stdout",
     "output_type": "stream",
     "text": [
      "[[ 5.]\n",
      " [10.]\n",
      " [15.]]\n",
      "\n",
      "[ 5. 10. 15.]\n"
     ]
    }
   ],
   "source": [
    "# 배열의 형 변환 ***\n",
    "print(z2); print()\n",
    "print(z2.flatten()) # 평탄화 시킴 : 모든 차수의 배열을 1차원으로"
   ]
  },
  {
   "cell_type": "code",
   "execution_count": 49,
   "id": "ac4cb740",
   "metadata": {},
   "outputs": [
    {
     "name": "stdout",
     "output_type": "stream",
     "text": [
      "[ 0  1  4  9 16 25 36 49 64 81]\n",
      "[ 9 16]\n",
      "4\n",
      "[81 64 49 36 25 16  9  4  1  0]\n",
      "[ 0  4 16]\n",
      "[  0   1  -4   9 -16  25  36  49  64  81]\n"
     ]
    }
   ],
   "source": [
    "# array인덱싱, 슬라이싱, 반복\n",
    "a = np.arange(10)**2\n",
    "print(a)\n",
    "print(a[3:5])\n",
    "print(a[2])\n",
    "print(a[::-1])\n",
    "print(a[0:6:2])\n",
    "a[0:6:2] = -a[0:6:2]\n",
    "print(a)"
   ]
  },
  {
   "cell_type": "code",
   "execution_count": 51,
   "id": "bca37319",
   "metadata": {},
   "outputs": [
    {
     "name": "stdout",
     "output_type": "stream",
     "text": [
      "1 2 -3 10 -15 26 37 50 65 82 "
     ]
    }
   ],
   "source": [
    "# 반복문\n",
    "for x in a:\n",
    "    print(x+1, end=' ')"
   ]
  },
  {
   "cell_type": "code",
   "execution_count": 57,
   "id": "cab99866",
   "metadata": {},
   "outputs": [
    {
     "name": "stdout",
     "output_type": "stream",
     "text": [
      "[[ 1  2  3  4  5]\n",
      " [ 6  7  8  9 10]\n",
      " [11 12 13 14 15]\n",
      " [16 17 18 19 20]]\n",
      "\n",
      "12\n",
      "\n",
      "[[ 1  2  3  4  5]\n",
      " [ 6  7  8  9 10]]\n",
      "\n",
      "[ 6  7  8  9 10]\n",
      "\n",
      "[ 5 10 15 20]\n"
     ]
    }
   ],
   "source": [
    "a = np.arange(1,21,1).reshape(4,5)\n",
    "print(a); print()\n",
    "print(a[2,1]); print()\n",
    "print(a[:2,]); print()\n",
    "print(a[1,]); print()\n",
    "print(a[:,-1])"
   ]
  },
  {
   "cell_type": "code",
   "execution_count": 60,
   "id": "7af9ae33",
   "metadata": {},
   "outputs": [
    {
     "name": "stdout",
     "output_type": "stream",
     "text": [
      "[1 2 3 4 5]\n",
      "[ 0.84147098  0.90929743  0.14112001 -0.7568025  -0.95892427]\n",
      "[ 0.54030231 -0.41614684 -0.9899925  -0.65364362  0.28366219]\n",
      "[0.         0.69314718 1.09861229 1.38629436 1.60943791]\n"
     ]
    }
   ],
   "source": [
    "# numpy의 함수\n",
    "a = np.arange(1,6,1)\n",
    "print(a)\n",
    "print(np.sin(a))\n",
    "print(np.cos(a))\n",
    "print(np.log(a))"
   ]
  },
  {
   "cell_type": "code",
   "execution_count": 62,
   "id": "04a3b591",
   "metadata": {},
   "outputs": [
    {
     "name": "stdout",
     "output_type": "stream",
     "text": [
      "[10  5  6]\n",
      "[4 3 4]\n",
      "17\n"
     ]
    }
   ],
   "source": [
    "a1 = np.array([10,3,4])\n",
    "a2 = np.array([4,5,6])\n",
    "print(np.maximum(a1,a2))\n",
    "print(np.minimum(a1,a2))\n",
    "print(np.sum(a1))"
   ]
  },
  {
   "cell_type": "code",
   "execution_count": 69,
   "id": "41119bc9",
   "metadata": {},
   "outputs": [
    {
     "name": "stdout",
     "output_type": "stream",
     "text": [
      "[69 57  6 47 68]\n",
      "\n",
      "[[0.73395632 0.81110146 0.14125967]\n",
      " [0.91688359 0.06467998 0.36756096]]\n",
      "\n",
      "[[ 0.31933656 -1.18029387  0.66723087]\n",
      " [ 2.18817599  0.94723128  0.52492119]]\n"
     ]
    }
   ],
   "source": [
    "print(np.random.choice(100,5)) # 0~100의 숫자 중 5개만 뽑기\n",
    "print()\n",
    "print(np.random.rand(2,3)); print()\n",
    "print(np.random.randn(2,3))"
   ]
  },
  {
   "cell_type": "code",
   "execution_count": 75,
   "id": "71435381",
   "metadata": {},
   "outputs": [
    {
     "name": "stdout",
     "output_type": "stream",
     "text": [
      "1\n",
      "10\n",
      "3\n",
      "2\n",
      "\n",
      "[1 2 0]\n"
     ]
    }
   ],
   "source": [
    "a = np.array([6,10,3,2,4,5])\n",
    "print(np.argmax(a)) # 가장 큰 값의 인덱스 반환\n",
    "print(a[np.argmax(a)])\n",
    "print(np.argmin(a)) # 가장 작은 값의 인덱스 반환\n",
    "print(a[np.argmin(a)])\n",
    "print()\n",
    "\n",
    "a = np.array([[1,8,2],[3,2,5],[9,5,3]])\n",
    "print(np.argmax(a,axis=1))"
   ]
  },
  {
   "cell_type": "code",
   "execution_count": 87,
   "id": "65f8db64",
   "metadata": {},
   "outputs": [
    {
     "name": "stdout",
     "output_type": "stream",
     "text": [
      "[0.5488135  0.71518937 0.60276338 0.54488318 0.4236548 ]\n"
     ]
    }
   ],
   "source": [
    "np.random.seed(0) # 시드값을 넣어주면 매 실행마다 값이 바뀌지 않는다.\n",
    "print(np.random.rand(5))"
   ]
  },
  {
   "cell_type": "code",
   "execution_count": 3,
   "id": "9ccfac5d",
   "metadata": {},
   "outputs": [
    {
     "name": "stdout",
     "output_type": "stream",
     "text": [
      "[ 1  2  3  4  5  6  7  8  9 10 11 12 13 14 15 16 17 18 19 20]\n",
      "[ 3  6  9 12 15 18]\n",
      "[ 1  5  9 13 17]\n",
      "[9]\n"
     ]
    }
   ],
   "source": [
    "x = np.arange(1,21)\n",
    "print(x)\n",
    "print(x[x%3==0])\n",
    "print(x[x%4==1])\n",
    "print(x[(x%3==0) & (x%4==1)])"
   ]
  }
 ],
 "metadata": {
  "kernelspec": {
   "display_name": "Python 3 (ipykernel)",
   "language": "python",
   "name": "python3"
  },
  "language_info": {
   "codemirror_mode": {
    "name": "ipython",
    "version": 3
   },
   "file_extension": ".py",
   "mimetype": "text/x-python",
   "name": "python",
   "nbconvert_exporter": "python",
   "pygments_lexer": "ipython3",
   "version": "3.9.7"
  }
 },
 "nbformat": 4,
 "nbformat_minor": 5
}
