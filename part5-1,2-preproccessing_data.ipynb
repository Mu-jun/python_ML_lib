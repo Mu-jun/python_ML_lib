{
 "cells": [
  {
   "cell_type": "code",
   "execution_count": 1,
   "id": "f3c5f90b",
   "metadata": {},
   "outputs": [],
   "source": [
    "# 데이터 사전처리 preproccessing data\n",
    "# 1. 누락 데이터 확인\n",
    "# 2. 누락 데이터 처리\n",
    "# 삭제 dropna()\n",
    "# 치환 fillna()\n",
    "import pandas as pd\n",
    "import seaborn as sns"
   ]
  },
  {
   "cell_type": "code",
   "execution_count": 2,
   "id": "0eb4995e",
   "metadata": {},
   "outputs": [
    {
     "name": "stdout",
     "output_type": "stream",
     "text": [
      "<class 'pandas.core.frame.DataFrame'>\n",
      "RangeIndex: 891 entries, 0 to 890\n",
      "Data columns (total 15 columns):\n",
      " #   Column       Non-Null Count  Dtype   \n",
      "---  ------       --------------  -----   \n",
      " 0   survived     891 non-null    int64   \n",
      " 1   pclass       891 non-null    int64   \n",
      " 2   sex          891 non-null    object  \n",
      " 3   age          714 non-null    float64 \n",
      " 4   sibsp        891 non-null    int64   \n",
      " 5   parch        891 non-null    int64   \n",
      " 6   fare         891 non-null    float64 \n",
      " 7   embarked     889 non-null    object  \n",
      " 8   class        891 non-null    category\n",
      " 9   who          891 non-null    object  \n",
      " 10  adult_male   891 non-null    bool    \n",
      " 11  deck         203 non-null    category\n",
      " 12  embark_town  889 non-null    object  \n",
      " 13  alive        891 non-null    object  \n",
      " 14  alone        891 non-null    bool    \n",
      "dtypes: bool(2), category(2), float64(2), int64(4), object(5)\n",
      "memory usage: 80.7+ KB\n"
     ]
    }
   ],
   "source": [
    "# titanic 데이터 load\n",
    "df = sns.load_dataset('titanic')\n",
    "df.info()\n",
    "# 데이터프레임의 데이터의 인덱수의 갯수와 컬럼별 데이터의 갯수 및 자료 타입"
   ]
  },
  {
   "cell_type": "code",
   "execution_count": 5,
   "id": "d5506876",
   "metadata": {},
   "outputs": [
    {
     "name": "stdout",
     "output_type": "stream",
     "text": [
      "NaN    688\n",
      "C       59\n",
      "B       47\n",
      "D       33\n",
      "E       32\n",
      "A       15\n",
      "F       13\n",
      "G        4\n",
      "Name: deck, dtype: int64\n"
     ]
    }
   ],
   "source": [
    "# deck 컬럼이 누락데이터가 많이 존재함.\n",
    "# 인덱수 갯수가 891개 deck 자료 갯수 203개\n",
    "# deck 컬럼의 누락데이터가 몇개인지 확인 : value_counts(dropna=False)\n",
    "print(df.deck.value_counts(dropna=False))\n",
    "# NaN 갯수 확인"
   ]
  },
  {
   "cell_type": "code",
   "execution_count": 17,
   "id": "6b65ed0e",
   "metadata": {},
   "outputs": [
    {
     "name": "stdout",
     "output_type": "stream",
     "text": [
      "survived         0\n",
      "pclass           0\n",
      "sex              0\n",
      "age            177\n",
      "sibsp            0\n",
      "parch            0\n",
      "fare             0\n",
      "embarked         2\n",
      "class            0\n",
      "who              0\n",
      "adult_male       0\n",
      "deck           688\n",
      "embark_town      2\n",
      "alive            0\n",
      "alone            0\n",
      "dtype: int64\n"
     ]
    }
   ],
   "source": [
    "# 누락 데이터를 직접 찾는 방법 : .isnull(), .notnull()\n",
    "# print(df.head().isnull()) # null이면 True\n",
    "# print(df.head().notnull()) # null이면 False\n",
    "\n",
    "# 누락 데이터 갯수 확인\n",
    "print(df.isnull().sum()) # 행으로 계산할 때 sum(axis=1)"
   ]
  },
  {
   "cell_type": "code",
   "execution_count": 12,
   "id": "2dd54781",
   "metadata": {},
   "outputs": [
    {
     "name": "stdout",
     "output_type": "stream",
     "text": [
      "survived : 0\n",
      "pclass : 0\n",
      "sex : 0\n",
      "age : 177\n",
      "sibsp : 0\n",
      "parch : 0\n",
      "fare : 0\n",
      "embarked : 2\n",
      "class : 0\n",
      "who : 0\n",
      "adult_male : 0\n",
      "deck : 688\n",
      "embark_town : 2\n",
      "alive : 0\n",
      "alone : 0\n"
     ]
    }
   ],
   "source": [
    "# isnull(), value_counts() -> 각 열의 값에 누락변수가 몇개씩 존재하는지 확인\n",
    "miss_df = df.isnull() # null이면 True\n",
    "\n",
    "for col in miss_df.columns:\n",
    "    miss_count = miss_df[col].value_counts() # 각 열의 Nan 갯수 파악\n",
    "    \n",
    "    try:\n",
    "        print('{} : {}'.format(col, miss_count[True]))\n",
    "    except:\n",
    "        print('{} : {}'.format(col,0))"
   ]
  },
  {
   "cell_type": "code",
   "execution_count": 24,
   "id": "02503992",
   "metadata": {},
   "outputs": [
    {
     "name": "stdout",
     "output_type": "stream",
     "text": [
      "Index(['survived', 'pclass', 'sex', 'age', 'sibsp', 'parch', 'fare',\n",
      "       'embarked', 'class', 'who', 'adult_male', 'embark_town', 'alive',\n",
      "       'alone'],\n",
      "      dtype='object')\n",
      "\n",
      "<class 'pandas.core.frame.DataFrame'>\n",
      "RangeIndex: 891 entries, 0 to 890\n",
      "Data columns (total 14 columns):\n",
      " #   Column       Non-Null Count  Dtype   \n",
      "---  ------       --------------  -----   \n",
      " 0   survived     891 non-null    int64   \n",
      " 1   pclass       891 non-null    int64   \n",
      " 2   sex          891 non-null    object  \n",
      " 3   age          714 non-null    float64 \n",
      " 4   sibsp        891 non-null    int64   \n",
      " 5   parch        891 non-null    int64   \n",
      " 6   fare         891 non-null    float64 \n",
      " 7   embarked     889 non-null    object  \n",
      " 8   class        891 non-null    category\n",
      " 9   who          891 non-null    object  \n",
      " 10  adult_male   891 non-null    bool    \n",
      " 11  embark_town  889 non-null    object  \n",
      " 12  alive        891 non-null    object  \n",
      " 13  alone        891 non-null    bool    \n",
      "dtypes: bool(2), category(1), float64(2), int64(4), object(5)\n",
      "memory usage: 79.4+ KB\n",
      "\n",
      "survived         0\n",
      "pclass           0\n",
      "sex              0\n",
      "age            177\n",
      "sibsp            0\n",
      "parch            0\n",
      "fare             0\n",
      "embarked         2\n",
      "class            0\n",
      "who              0\n",
      "adult_male       0\n",
      "embark_town      2\n",
      "alive            0\n",
      "alone            0\n",
      "dtype: int64\n"
     ]
    }
   ],
   "source": [
    "# 누락 데이터 처리\n",
    "# Nan 데이터가 500개 이상인 컬럼을 삭제 \n",
    "df_thresh = df.dropna(axis=1, thresh=500)\n",
    "print(df_thresh.columns) # deck가 삭제되어 있음\n",
    "print(); df_thresh.info(); print()\n",
    "print(df_thresh.isnull().sum())"
   ]
  },
  {
   "cell_type": "code",
   "execution_count": 27,
   "id": "89a17213",
   "metadata": {},
   "outputs": [
    {
     "name": "stdout",
     "output_type": "stream",
     "text": [
      "Index(['survived', 'pclass', 'sex', 'age', 'sibsp', 'parch', 'fare',\n",
      "       'embarked', 'class', 'who', 'adult_male', 'embark_town', 'alive',\n",
      "       'alone'],\n",
      "      dtype='object')\n",
      "\n",
      "<class 'pandas.core.frame.DataFrame'>\n",
      "Int64Index: 714 entries, 0 to 890\n",
      "Data columns (total 14 columns):\n",
      " #   Column       Non-Null Count  Dtype   \n",
      "---  ------       --------------  -----   \n",
      " 0   survived     714 non-null    int64   \n",
      " 1   pclass       714 non-null    int64   \n",
      " 2   sex          714 non-null    object  \n",
      " 3   age          714 non-null    float64 \n",
      " 4   sibsp        714 non-null    int64   \n",
      " 5   parch        714 non-null    int64   \n",
      " 6   fare         714 non-null    float64 \n",
      " 7   embarked     712 non-null    object  \n",
      " 8   class        714 non-null    category\n",
      " 9   who          714 non-null    object  \n",
      " 10  adult_male   714 non-null    bool    \n",
      " 11  embark_town  712 non-null    object  \n",
      " 12  alive        714 non-null    object  \n",
      " 13  alone        714 non-null    bool    \n",
      "dtypes: bool(2), category(1), float64(2), int64(4), object(5)\n",
      "memory usage: 69.2+ KB\n"
     ]
    }
   ],
   "source": [
    "# age컬럼에 Nan이 있는 인덱스(행)을 제거\n",
    "df_age = df_thresh.dropna(subset=['age'], axis=0, how='any')\n",
    "print(df_age.columns) ; print()\n",
    "df_age.info()"
   ]
  },
  {
   "cell_type": "code",
   "execution_count": 35,
   "id": "29fa9d77",
   "metadata": {},
   "outputs": [
    {
     "name": "stdout",
     "output_type": "stream",
     "text": [
      "0    22.0\n",
      "1    38.0\n",
      "2    26.0\n",
      "3    35.0\n",
      "4    35.0\n",
      "5     NaN\n",
      "6    54.0\n",
      "7     2.0\n",
      "8    27.0\n",
      "9    14.0\n",
      "Name: age, dtype: float64\n",
      "\n",
      "29\n",
      "\n",
      "0    22.0\n",
      "1    38.0\n",
      "2    26.0\n",
      "3    35.0\n",
      "4    35.0\n",
      "5    29.0\n",
      "6    54.0\n",
      "7     2.0\n",
      "8    27.0\n",
      "9    14.0\n",
      "Name: age, dtype: float64\n"
     ]
    }
   ],
   "source": [
    "# 누락 데이터 치환\n",
    "# age의 누락 데이터에 age의 평균값으로 치환\n",
    "df_age = df.copy()\n",
    "print(df_age['age'].head(10)) ; print()\n",
    "\n",
    "mean_age = int(df['age'].mean(axis=0))\n",
    "print(mean_age) ; print()\n",
    "\n",
    "df_age['age'].fillna(mean_age, inplace=True)\n",
    "print(df_age['age'].head(10))"
   ]
  },
  {
   "cell_type": "code",
   "execution_count": 52,
   "id": "08894067",
   "metadata": {},
   "outputs": [
    {
     "name": "stdout",
     "output_type": "stream",
     "text": [
      "825     Queenstown\n",
      "826    Southampton\n",
      "827      Cherbourg\n",
      "828     Queenstown\n",
      "829            NaN\n",
      "Name: embark_town, dtype: object\n",
      "\n",
      "825     Queenstown\n",
      "826    Southampton\n",
      "827      Cherbourg\n",
      "828     Queenstown\n",
      "829    Southampton\n",
      "Name: embark_town, dtype: object\n"
     ]
    }
   ],
   "source": [
    "# 누락 데이터 치환\n",
    "# embark_town의 누락 데이터에 가장 빈번한 값으로 치환\n",
    "df_embark = df.copy()\n",
    "print(df_embark['embark_town'][825:830]) ;print()\n",
    "\n",
    "# 가장 빈번하게 나오는 값 찾기\n",
    "most_data = df_embark['embark_town'].value_counts(dropna=True).idxmax()\n",
    "\n",
    "df_embark['embark_town'].fillna(most_data,inplace=True)\n",
    "print(df_embark['embark_town'][825:830])"
   ]
  },
  {
   "cell_type": "code",
   "execution_count": 57,
   "id": "e97f2309",
   "metadata": {},
   "outputs": [
    {
     "name": "stdout",
     "output_type": "stream",
     "text": [
      "825     Queenstown\n",
      "826    Southampton\n",
      "827      Cherbourg\n",
      "828     Queenstown\n",
      "829            NaN\n",
      "830      Cherbourg\n",
      "Name: embark_town, dtype: object\n",
      "\n",
      "825     Queenstown\n",
      "826    Southampton\n",
      "827      Cherbourg\n",
      "828     Queenstown\n",
      "829     Queenstown\n",
      "830      Cherbourg\n",
      "Name: embark_town, dtype: object\n"
     ]
    }
   ],
   "source": [
    "# 누락 데이터 치환\n",
    "# embark_town의 누락 데이터에 인접한 값으로 치환\n",
    "df_embark = df.copy()\n",
    "print(df_embark['embark_town'][825:831]) ;print()\n",
    "\n",
    "df_embark['embark_town'].fillna(method='ffill',inplace=True)\n",
    "# 'ffill' 앞(front)에 값으로,'bfill' 뒤(back)에 값으로 대체\n",
    "print(df_embark['embark_town'][825:831])"
   ]
  },
  {
   "cell_type": "code",
   "execution_count": 67,
   "id": "7f3be03f",
   "metadata": {},
   "outputs": [
    {
     "name": "stdout",
     "output_type": "stream",
     "text": [
      "  c1  c2  c3\n",
      "0  a   1   1\n",
      "1  a   1   1\n",
      "2  b   1   2\n",
      "3  a   2   2\n",
      "4  b   2   2\n",
      "\n",
      "0    False\n",
      "1     True\n",
      "2    False\n",
      "3    False\n",
      "4    False\n",
      "dtype: bool\n",
      "\n",
      "0    False\n",
      "1     True\n",
      "2     True\n",
      "3    False\n",
      "4     True\n",
      "Name: c2, dtype: bool\n",
      "\n",
      "  c1  c2  c3\n",
      "0  a   1   1\n",
      "2  b   1   2\n",
      "3  a   2   2\n",
      "4  b   2   2\n",
      "  c1  c2  c3\n",
      "0  a   1   1\n",
      "2  b   1   2\n",
      "3  a   2   2\n"
     ]
    }
   ],
   "source": [
    "# 중복 데이터 처리\n",
    "df = pd.DataFrame({'c1': ['a','a','b','a','b'],\n",
    "                   'c2': [1,1,1,2,2],\n",
    "                   'c3': [1,1,2,2,2]\n",
    "                   })\n",
    "print(df); print()\n",
    "\n",
    "# 중복 데이터 확인 : .duplicated() 중복된 데이터이면 True\n",
    "print(df.duplicated()) # 행단위의 중복 확인\n",
    "print()\n",
    "print(df['c2'].duplicated()) # 열단위(Series)의 중복 확인\n",
    "print()\n",
    "\n",
    "# 중복 행 데이터를 제거 : .drop_duplicates()\n",
    "df2 = df.drop_duplicates()\n",
    "print(df2)\n",
    "\n",
    "# 컬럼을 기준으로 중복 행 제거\n",
    "df3 = df.drop_duplicates(subset=['c2','c3'])\n",
    "print(df3)"
   ]
  },
  {
   "cell_type": "code",
   "execution_count": 77,
   "id": "6f557279",
   "metadata": {
    "scrolled": false
   },
   "outputs": [
    {
     "name": "stdout",
     "output_type": "stream",
     "text": [
      "<class 'pandas.core.frame.DataFrame'>\n",
      "RangeIndex: 891 entries, 0 to 890\n",
      "Data columns (total 15 columns):\n",
      " #   Column       Non-Null Count  Dtype   \n",
      "---  ------       --------------  -----   \n",
      " 0   survived     891 non-null    int64   \n",
      " 1   pclass       891 non-null    int64   \n",
      " 2   sex          891 non-null    object  \n",
      " 3   age          714 non-null    float64 \n",
      " 4   sibsp        891 non-null    int64   \n",
      " 5   parch        891 non-null    int64   \n",
      " 6   fare         891 non-null    float64 \n",
      " 7   embarked     889 non-null    object  \n",
      " 8   class        891 non-null    category\n",
      " 9   who          891 non-null    object  \n",
      " 10  adult_male   891 non-null    bool    \n",
      " 11  deck         203 non-null    category\n",
      " 12  embark_town  889 non-null    object  \n",
      " 13  alive        891 non-null    object  \n",
      " 14  alone        891 non-null    bool    \n",
      "dtypes: bool(2), category(2), float64(2), int64(4), object(5)\n",
      "memory usage: 80.7+ KB\n",
      "<class 'pandas.core.frame.DataFrame'>\n",
      "Int64Index: 714 entries, 0 to 890\n",
      "Data columns (total 15 columns):\n",
      " #   Column       Non-Null Count  Dtype   \n",
      "---  ------       --------------  -----   \n",
      " 0   survived     714 non-null    int64   \n",
      " 1   pclass       714 non-null    int64   \n",
      " 2   sex          714 non-null    object  \n",
      " 3   age          714 non-null    float64 \n",
      " 4   sibsp        714 non-null    int64   \n",
      " 5   parch        714 non-null    int64   \n",
      " 6   fare         714 non-null    float64 \n",
      " 7   embarked     712 non-null    object  \n",
      " 8   class        714 non-null    category\n",
      " 9   who          714 non-null    object  \n",
      " 10  adult_male   714 non-null    bool    \n",
      " 11  deck         184 non-null    category\n",
      " 12  embark_town  712 non-null    object  \n",
      " 13  alive        714 non-null    object  \n",
      " 14  alone        714 non-null    bool    \n",
      "dtypes: bool(2), category(2), float64(2), int64(4), object(5)\n",
      "memory usage: 70.2+ KB\n",
      "<class 'pandas.core.frame.DataFrame'>\n",
      "Int64Index: 88 entries, 0 to 851\n",
      "Data columns (total 15 columns):\n",
      " #   Column       Non-Null Count  Dtype   \n",
      "---  ------       --------------  -----   \n",
      " 0   survived     88 non-null     int64   \n",
      " 1   pclass       88 non-null     int64   \n",
      " 2   sex          88 non-null     object  \n",
      " 3   age          88 non-null     float64 \n",
      " 4   sibsp        88 non-null     int64   \n",
      " 5   parch        88 non-null     int64   \n",
      " 6   fare         88 non-null     float64 \n",
      " 7   embarked     88 non-null     object  \n",
      " 8   class        88 non-null     category\n",
      " 9   who          88 non-null     object  \n",
      " 10  adult_male   88 non-null     bool    \n",
      " 11  deck         29 non-null     category\n",
      " 12  embark_town  88 non-null     object  \n",
      " 13  alive        88 non-null     object  \n",
      " 14  alone        88 non-null     bool    \n",
      "dtypes: bool(2), category(2), float64(2), int64(4), object(5)\n",
      "memory usage: 9.1+ KB\n",
      "<class 'pandas.core.frame.DataFrame'>\n",
      "Int64Index: 678 entries, 0 to 890\n",
      "Data columns (total 15 columns):\n",
      " #   Column       Non-Null Count  Dtype   \n",
      "---  ------       --------------  -----   \n",
      " 0   survived     678 non-null    int64   \n",
      " 1   pclass       678 non-null    int64   \n",
      " 2   sex          678 non-null    object  \n",
      " 3   age          678 non-null    float64 \n",
      " 4   sibsp        678 non-null    int64   \n",
      " 5   parch        678 non-null    int64   \n",
      " 6   fare         678 non-null    float64 \n",
      " 7   embarked     676 non-null    object  \n",
      " 8   class        678 non-null    category\n",
      " 9   who          678 non-null    object  \n",
      " 10  adult_male   678 non-null    bool    \n",
      " 11  deck         183 non-null    category\n",
      " 12  embark_town  676 non-null    object  \n",
      " 13  alive        678 non-null    object  \n",
      " 14  alone        678 non-null    bool    \n",
      "dtypes: bool(2), category(2), float64(2), int64(4), object(5)\n",
      "memory usage: 66.7+ KB\n"
     ]
    }
   ],
   "source": [
    "# titanic 데이터를 load 해서\n",
    "# age 컬럼이 Nan이면 삭제하고\n",
    "# age 컬럼을 기준으로 중복을 제거\n",
    "df = sns.load_dataset('titanic')\n",
    "df.info()\n",
    "\n",
    "titanic = df.dropna(subset=['age'],axis=0)\n",
    "titanic.info()\n",
    "\n",
    "uniq_age = titanic.drop_duplicates(subset=['age'])\n",
    "uniq_age.info()\n",
    "\n",
    "# 모든 컬럼의 값이 같은 행을 제거\n",
    "titanic_dup = titanic.drop_duplicates()\n",
    "titanic_dup.info()"
   ]
  }
 ],
 "metadata": {
  "kernelspec": {
   "display_name": "Python 3 (ipykernel)",
   "language": "python",
   "name": "python3"
  },
  "language_info": {
   "codemirror_mode": {
    "name": "ipython",
    "version": 3
   },
   "file_extension": ".py",
   "mimetype": "text/x-python",
   "name": "python",
   "nbconvert_exporter": "python",
   "pygments_lexer": "ipython3",
   "version": "3.9.7"
  }
 },
 "nbformat": 4,
 "nbformat_minor": 5
}
