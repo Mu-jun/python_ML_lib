{
 "cells": [
  {
   "cell_type": "code",
   "execution_count": 13,
   "id": "b0d2906b",
   "metadata": {},
   "outputs": [
    {
     "name": "stdout",
     "output_type": "stream",
     "text": [
      "a    10\n",
      "b    20\n",
      "c    30\n",
      "d    40\n",
      "e    30\n",
      "dtype: int64\n",
      "<class 'pandas.core.series.Series'>\n"
     ]
    }
   ],
   "source": [
    "# 판다스의 시리즈\n",
    "import pandas as pd\n",
    "\n",
    "a_series = pd.Series({'a':10,'b':20,'c':30,'d':40, 'e':30}) # 딕셔너리의 키가 인덱스명, 값이 value\n",
    "print(a_series)\n",
    "print(type(a_series))"
   ]
  },
  {
   "cell_type": "code",
   "execution_count": 110,
   "id": "98592a0b",
   "metadata": {},
   "outputs": [
    {
     "name": "stdout",
     "output_type": "stream",
     "text": [
      "Index(['a', 'b', 'c', 'd', 'e'], dtype='object') [10 20 30 40 30]\n",
      "\n",
      "30    2\n",
      "10    1\n",
      "20    1\n",
      "40    1\n",
      "dtype: int64\n",
      "\n",
      "10 10\n",
      "\n",
      "a    10\n",
      "c    30\n",
      "dtype: int64\n",
      "\n",
      "a    10\n",
      "b    20\n",
      "dtype: int64\n",
      "\n",
      "a    10\n",
      "b    20\n",
      "c    30\n",
      "dtype: int64\n",
      "\n"
     ]
    }
   ],
   "source": [
    "# 시리즈의 데이터 선택 : 시리즈명[] -> 인덱스명 또는 인덱스 첨자\n",
    "print(a_series.index, a_series.values); print()\n",
    "print(a_series.value_counts()); print()\n",
    "print(a_series['a'], a_series[0]); print()\n",
    "print(a_series[[0,2]]); print() # 여러개 선택시 리스트로 선택\n",
    "print(a_series[0:2]); print() # 숫자로 슬라이싱 start:end -> end미포함\n",
    "print(a_series['a':'c']); print() # 인덱스명 start:end -> end포함"
   ]
  },
  {
   "cell_type": "code",
   "execution_count": 25,
   "id": "eba08f67",
   "metadata": {},
   "outputs": [
    {
     "name": "stdout",
     "output_type": "stream",
     "text": [
      "0      10\n",
      "1    test\n",
      "2    True\n",
      "3    data\n",
      "dtype: object\n",
      "a      10\n",
      "b    test\n",
      "c    True\n",
      "d    data\n",
      "dtype: object\n"
     ]
    }
   ],
   "source": [
    "# b_series = pd.Series([10,'test', True,'data'], index=['a','b','c','d'])\n",
    "b_series = pd.Series([10,'test', True,'data'])\n",
    "print(b_series)\n",
    "b_series.index = ['a','b','c','d'] # 인덱스명 추가\n",
    "print(b_series)"
   ]
  },
  {
   "cell_type": "code",
   "execution_count": 111,
   "id": "212987a2",
   "metadata": {},
   "outputs": [
    {
     "name": "stdout",
     "output_type": "stream",
     "text": [
      "   c0  c1  c2  c3\n",
      "0   1   0   4   7\n",
      "1   2   9   5   8\n",
      "2   3   8   6   9\n",
      "\n",
      "Index(['c0', 'c1', 'c2', 'c3'], dtype='object') RangeIndex(start=0, stop=3, step=1)\n",
      "\n",
      "   c0  c1  c2  c3\n",
      "a   1   0   4   7\n",
      "b   2   9   5   8\n",
      "c   3   8   6   9\n",
      "\n",
      "Index(['c0', 'c1', 'c2', 'c3'], dtype='object') Index(['a', 'b', 'c'], dtype='object')\n",
      "\n",
      "   a1  a2  a3  a4\n",
      "a   1   0   4   7\n",
      "b   2   9   5   8\n",
      "c   3   8   6   9\n",
      "\n",
      "Index(['a1', 'a2', 'a3', 'a4'], dtype='object') Index(['a', 'b', 'c'], dtype='object')\n",
      "\n"
     ]
    }
   ],
   "source": [
    "#데이터프레임 : 여러 개의 시리즈가 모여서 만들어짐\n",
    "# 딕셔너리의 키는 컬럼명(시리즈 이름)이 됨\n",
    "# pandas.DataFrame(딕셔너리, index = 행이름, columns= 열이름)\n",
    "dict_data = {'c0':[1,2,3],'c1':[0,9,8],'c2':[4,5,6],'c3':[7,8,9]}\n",
    "\n",
    "df = pd.DataFrame(dict_data) # 데이터프레임 생성\n",
    "print(df); print()\n",
    "print(df.columns, df.index); print() # 컬럼명, 인덱스명 출력\n",
    "df.index = ['a','b','c']\n",
    "print(df); print()\n",
    "print(df.columns, df.index); print()\n",
    "df.columns = ['a1','a2','a3','a4']\n",
    "print(df); print()\n",
    "print(df.columns, df.index); print()"
   ]
  },
  {
   "cell_type": "code",
   "execution_count": 112,
   "id": "fa40f694",
   "metadata": {},
   "outputs": [
    {
     "name": "stdout",
     "output_type": "stream",
     "text": [
      "   c1  c2  c3\n",
      "a   1   2   3\n",
      "b   4   5   6\n",
      "c   7   8   9\n"
     ]
    }
   ],
   "source": [
    "df = pd.DataFrame([[1,2,3],[4,5,6],[7,8,9]],\n",
    "                  index=['a','b','c'],\n",
    "                  columns=['c1','c2','c3'])\n",
    "print(df)"
   ]
  },
  {
   "cell_type": "code",
   "execution_count": 43,
   "id": "145d0e25",
   "metadata": {
    "scrolled": true
   },
   "outputs": [
    {
     "name": "stdout",
     "output_type": "stream",
     "text": [
      "    나이 성별   학교\n",
      "준서  15  남  덕영중\n",
      "예은  17  여  수리중\n",
      "\n",
      "     나이 성별   학교\n",
      "학생1  15  남  덕영중\n",
      "예은   17  여  수리중\n",
      "\n",
      "     나이 남여   학교\n",
      "학생1  15  남  덕영중\n",
      "예은   17  여  수리중\n"
     ]
    }
   ],
   "source": [
    "# 행 인덱스 / 열 이름 지정\n",
    "df = pd.DataFrame([[15,'남','덕영중'],[17,'여','수리중']],\n",
    "                 index=['준서','예은'], columns=['나이','성별','학교'])\n",
    "print(df)\n",
    "print()\n",
    "# 행 일부 이름 변경 df.rename(index={기존 인덱스명:새로운 인덱스명, ...})\n",
    "# 열 일부 이름 변경 df.rename(columns={기존 컬럼명:새로운 컬럼명, ...})\n",
    "df.rename(index={'준서':'학생1'},inplace=True)\n",
    "# inplace = True 기존의 데이터 변경\n",
    "print(df)\n",
    "print()\n",
    "df.rename(columns={'성별':'남여'},inplace=True)\n",
    "print(df)"
   ]
  },
  {
   "cell_type": "code",
   "execution_count": 117,
   "id": "f190b952",
   "metadata": {},
   "outputs": [
    {
     "name": "stdout",
     "output_type": "stream",
     "text": [
      "   수학  영어   음악   체육\n",
      "0  90  98   85  100\n",
      "1  80  89   95   90\n",
      "2  70  95  100   90\n",
      "\n",
      "    수학  영어   음악   체육\n",
      "서준  90  98   85  100\n",
      "우현  80  89   95   90\n",
      "인아  70  95  100   90\n",
      "\n",
      "    수학  영어   음악   체육\n",
      "서준  90  98   85  100\n",
      "인아  70  95  100   90\n",
      "\n",
      "    영어   음악\n",
      "서준  98   85\n",
      "인아  95  100\n"
     ]
    }
   ],
   "source": [
    "exam_data = {'수학':[90,80,70],'영어':[98,89,95],\n",
    "            '음악':[85,95,100],'체육':[100,90,90]}\n",
    "df = pd.DataFrame(exam_data)\n",
    "print(df)\n",
    "print()\n",
    "\n",
    "# 데이터프레임 인덱스명 추가\n",
    "df.index = ['서준','우현','인아']\n",
    "print(df); print()\n",
    "\n",
    "df2 = df.copy()\n",
    "# '우현' 자료를 삭제 (행을 삭제)\n",
    "df2.drop('우현',inplace=True)\n",
    "print(df2)\n",
    "print()\n",
    "# '수학','체육' 자료 삭제 (열을 삭제)\n",
    "df2.drop(['수학','체육'],axis=1,inplace=True)\n",
    "print(df2)"
   ]
  },
  {
   "cell_type": "code",
   "execution_count": 120,
   "id": "c456e53e",
   "metadata": {
    "scrolled": false
   },
   "outputs": [
    {
     "name": "stdout",
     "output_type": "stream",
     "text": [
      "    수학  영어   음악   체육\n",
      "서준  90  98   85  100\n",
      "우현  80  89   95   90\n",
      "민아  70  95  100   90\n",
      "\n",
      "수학     90\n",
      "영어     98\n",
      "음악     85\n",
      "체육    100\n",
      "Name: 서준, dtype: int64\n",
      "수학     90\n",
      "영어     98\n",
      "음악     85\n",
      "체육    100\n",
      "Name: 서준, dtype: int64\n",
      "\n",
      "    수학  영어  음악   체육\n",
      "서준  90  98  85  100\n",
      "우현  80  89  95   90\n",
      "    수학  영어  음악   체육\n",
      "서준  90  98  85  100\n",
      "우현  80  89  95   90\n",
      "    수학  영어  음악   체육\n",
      "서준  90  98  85  100\n",
      "우현  80  89  95   90\n",
      "    수학  영어  음악   체육\n",
      "서준  90  98  85  100\n",
      "우현  80  89  95   90\n",
      "\n",
      "서준    90\n",
      "우현    80\n",
      "민아    70\n",
      "Name: 수학, dtype: int64\n",
      "서준    90\n",
      "우현    80\n",
      "민아    70\n",
      "Name: 수학, dtype: int64\n",
      "\n",
      "    수학  영어   음악\n",
      "서준  90  98   85\n",
      "우현  80  89   95\n",
      "민아  70  95  100\n",
      "\n",
      "    수학  영어   음악   체육   국어\n",
      "서준  90  98   85  100  100\n",
      "우현  80  89   95   90   80\n",
      "민아  70  95  100   90   90\n"
     ]
    }
   ],
   "source": [
    "exam_data = {'수학':[90,80,70],'영어':[98,89,95],\n",
    "            '음악':[85,95,100],'체육':[100,90,90]}\n",
    "df = pd.DataFrame(exam_data)\n",
    "df2 = df.copy()\n",
    "\n",
    "df2.index = ['서준','우현','민아']\n",
    "print(df2)\n",
    "print()\n",
    "\n",
    "# 인덱스로 데이터 접근\n",
    "# 행 선택 -> df.loc[인덱스명], df.iloc[인덱스첨자]\n",
    "print(df2.loc['서준'])\n",
    "print(df2.iloc[0])\n",
    "print()\n",
    "\n",
    "#'서준'과 '우현' 자료를 검색\n",
    "print(df2.loc[['서준','우현']])\n",
    "print(df2.loc['서준':'우현']) # 범위선택시 마지막 인덱스 포함\n",
    "print(df2.iloc[[0,1]])\n",
    "print(df2.iloc[0:2]) # 범위선택시 마지막 인덱스 미포함\n",
    "print()\n",
    "\n",
    "# 컬럼 자료 출력\n",
    "print(df2['수학'])\n",
    "print(df2.수학)\n",
    "print()\n",
    "# 수학,영어,음악 점수 출력\n",
    "print(df2[['수학','영어','음악']]) # df2['수학':'음악'] - 더이상 지원안함\n",
    "print()\n",
    "\n",
    "# 국어 점수를 100,80,90을 df2에 추가\n",
    "df2['국어']=[100,80,90]\n",
    "print(df2)"
   ]
  },
  {
   "cell_type": "code",
   "execution_count": 80,
   "id": "62845ed5",
   "metadata": {},
   "outputs": [
    {
     "name": "stdout",
     "output_type": "stream",
     "text": [
      "     음악   국어\n",
      "서준   85  100\n",
      "우현   95   80\n",
      "민아  100   90\n",
      "    수학  영어  음악   체육   국어\n",
      "서준  90  98  85  100  100\n",
      "우현  80  89  95   90   80\n",
      "    수학  영어   음악\n",
      "서준  90  98   85\n",
      "우현  80  89   95\n",
      "민아  70  95  100\n"
     ]
    }
   ],
   "source": [
    "df2\n",
    "# 음악과 국어 점수 출력\n",
    "print(df2[['음악','국어']])\n",
    "# 서준과 우현의 점수 출력\n",
    "print(df2.loc[['서준','우현']])\n",
    "# 수학,영어,음악 점수 출력\n",
    "print(df2[['수학','영어','음악']]) # df2['수학':'음악'] - 더이상 지원안함"
   ]
  },
  {
   "cell_type": "code",
   "execution_count": 125,
   "id": "ff999c03",
   "metadata": {},
   "outputs": [
    {
     "name": "stdout",
     "output_type": "stream",
     "text": [
      "    수학  영어   음악   체육   국어\n",
      "민아  70  95  100   90   90\n",
      "서준  90  98   85  100  100\n",
      "우현  80  89   95   90   80\n",
      "     수학  영어   음악   체육   국어\n",
      "민아   70  95  100   90   90\n",
      "서준   90  98   85  100  100\n",
      "우현   80  89   95   90   80\n",
      "철수  100  80   98   77   90\n"
     ]
    }
   ],
   "source": [
    "print(df2)\n",
    "# 새로운 행 추가 df.loc[인덱스명] = [값, ...]\n",
    "df2.loc['철수'] = [100,80,98,77,90]\n",
    "print(df2)"
   ]
  },
  {
   "cell_type": "code",
   "execution_count": 92,
   "id": "56d444ea",
   "metadata": {
    "scrolled": false
   },
   "outputs": [
    {
     "name": "stdout",
     "output_type": "stream",
     "text": [
      "100 100 100\n",
      "100 100 100\n",
      "서준    100\n",
      "우현     89\n",
      "Name: 영어, dtype: int64\n",
      "     수학   영어   음악   체육   국어\n",
      "서준   90  100   85  100  100\n",
      "우현   80   89   95   90   80\n",
      "민아   70   95  100   90   90\n",
      "철수  100   80   98   77   90\n",
      "    수학   영어\n",
      "서준  90  100\n",
      "우현  80   89\n",
      "민아  70   95\n",
      "    수학   영어\n",
      "서준  90  100\n",
      "우현  80   89\n",
      "민아  70   95\n"
     ]
    }
   ],
   "source": [
    "# 각 원소 접근 df.loc[인덱스명, 컬럼명], df.loc[인덱스명][컬럼명]\n",
    "# df.iloc[인덱스첨자, 컬럼위치 인덱스], df.iloc[인덱스첨자][컬럼위치]\n",
    "# 서준의 영어점수 검색\n",
    "print(df2.loc['서준','영어'],df2.loc['서준']['영어'],df2.loc['서준'][1])\n",
    "print(df2.iloc[0,1],df2.iloc[0]['영어'],df2.iloc[0][1])\n",
    "\n",
    "# 서준과 우현의 영어 점수\n",
    "print(df2.loc[['서준','우현'],'영어'])\n",
    "\n",
    "# 서준의 영어점수를 100으로 수정\n",
    "df2.loc['서준','영어'] = 100\n",
    "print(df2)\n",
    "\n",
    "# 서준부터 민아까지의 수학과 영어점수를 출력\n",
    "print(df2.loc['서준':'민아',['수학','영어']])\n",
    "print(df2.loc['서준':'민아'][['수학','영어']])"
   ]
  },
  {
   "cell_type": "code",
   "execution_count": 107,
   "id": "a9e70bca",
   "metadata": {
    "scrolled": true
   },
   "outputs": [
    {
     "name": "stdout",
     "output_type": "stream",
     "text": [
      "   수학  영어   음악   체육  이름\n",
      "0  90  98   85  100  우현\n",
      "1  80  89   95   90  서준\n",
      "2  70  95  100   90  민아\n",
      "    수학  영어   음악   체육\n",
      "이름                  \n",
      "우현  90  98   85  100\n",
      "서준  80  89   95   90\n",
      "민아  70  95  100   90\n",
      "   이름  수학  영어   음악   체육\n",
      "0  우현  90  98   85  100\n",
      "1  서준  80  89   95   90\n",
      "2  민아  70  95  100   90\n"
     ]
    }
   ],
   "source": [
    "df3 = df.copy()\n",
    "# 이름을 추가 컬럼명 이름: 우현, 서준, 민아\n",
    "df3['이름'] = ['우현','서준','민아']\n",
    "print(df3)\n",
    "\n",
    "# 특정 컬럼을 인덱스로 설정\n",
    "# df.set_index(컬럼명, inplace = True)\n",
    "df3.set_index('이름',inplace=True)\n",
    "print(df3)\n",
    "\n",
    "# 인덱스 초기화 df.reset_index(inplace=True)\n",
    "df3.reset_index(inplace=True)\n",
    "print(df3)"
   ]
  },
  {
   "cell_type": "code",
   "execution_count": 108,
   "id": "ccc4fc45",
   "metadata": {},
   "outputs": [
    {
     "data": {
      "text/plain": [
       "Index(['우현', '서준', '민아'], dtype='object', name='이름')"
      ]
     },
     "execution_count": 108,
     "metadata": {},
     "output_type": "execute_result"
    }
   ],
   "source": [
    "# 행 인덱스 재배열\n",
    "df3.set_index('이름',inplace=True)\n",
    "df3.index"
   ]
  },
  {
   "cell_type": "code",
   "execution_count": 123,
   "id": "f511e9d0",
   "metadata": {},
   "outputs": [
    {
     "name": "stdout",
     "output_type": "stream",
     "text": [
      "      수학    영어     음악     체육\n",
      "이름                          \n",
      "철수   NaN   NaN    NaN    NaN\n",
      "우현  90.0  98.0   85.0  100.0\n",
      "서준  80.0  89.0   95.0   90.0\n",
      "민아  70.0  95.0  100.0   90.0\n"
     ]
    }
   ],
   "source": [
    "df3 = df3.reindex(['철수','우현','서준','민아'])\n",
    "print(df3)"
   ]
  },
  {
   "cell_type": "code",
   "execution_count": 126,
   "id": "0f82cafd",
   "metadata": {},
   "outputs": [
    {
     "name": "stdout",
     "output_type": "stream",
     "text": [
      "     수학  영어   음악   체육   국어\n",
      "민아   70  95  100   90   90\n",
      "서준   90  98   85  100  100\n",
      "우현   80  89   95   90   80\n",
      "철수  100  80   98   77   90\n",
      "\n",
      "    영어   음악\n",
      "민아  95  100\n",
      "서준  98   85\n",
      "\n",
      "    수학  영어   음악   체육   국어\n",
      "민아  70  95  100   90   90\n",
      "서준  90  98   85  100  100\n",
      "     수학  영어   음악   체육   국어\n",
      "민아   70  95  100   90   90\n",
      "서준   90  98   85  100  100\n",
      "우현   80  89   95   90   80\n",
      "철수  100  80   98   77   90\n"
     ]
    },
    {
     "data": {
      "text/html": [
       "<div>\n",
       "<style scoped>\n",
       "    .dataframe tbody tr th:only-of-type {\n",
       "        vertical-align: middle;\n",
       "    }\n",
       "\n",
       "    .dataframe tbody tr th {\n",
       "        vertical-align: top;\n",
       "    }\n",
       "\n",
       "    .dataframe thead th {\n",
       "        text-align: right;\n",
       "    }\n",
       "</style>\n",
       "<table border=\"1\" class=\"dataframe\">\n",
       "  <thead>\n",
       "    <tr style=\"text-align: right;\">\n",
       "      <th></th>\n",
       "      <th>수학</th>\n",
       "      <th>영어</th>\n",
       "      <th>음악</th>\n",
       "      <th>체육</th>\n",
       "      <th>국어</th>\n",
       "    </tr>\n",
       "  </thead>\n",
       "  <tbody>\n",
       "    <tr>\n",
       "      <th>철수</th>\n",
       "      <td>100</td>\n",
       "      <td>80</td>\n",
       "      <td>98</td>\n",
       "      <td>77</td>\n",
       "      <td>90</td>\n",
       "    </tr>\n",
       "    <tr>\n",
       "      <th>서준</th>\n",
       "      <td>90</td>\n",
       "      <td>98</td>\n",
       "      <td>85</td>\n",
       "      <td>100</td>\n",
       "      <td>100</td>\n",
       "    </tr>\n",
       "    <tr>\n",
       "      <th>우현</th>\n",
       "      <td>80</td>\n",
       "      <td>89</td>\n",
       "      <td>95</td>\n",
       "      <td>90</td>\n",
       "      <td>80</td>\n",
       "    </tr>\n",
       "    <tr>\n",
       "      <th>민아</th>\n",
       "      <td>70</td>\n",
       "      <td>95</td>\n",
       "      <td>100</td>\n",
       "      <td>90</td>\n",
       "      <td>90</td>\n",
       "    </tr>\n",
       "  </tbody>\n",
       "</table>\n",
       "</div>"
      ],
      "text/plain": [
       "     수학  영어   음악   체육   국어\n",
       "철수  100  80   98   77   90\n",
       "서준   90  98   85  100  100\n",
       "우현   80  89   95   90   80\n",
       "민아   70  95  100   90   90"
      ]
     },
     "execution_count": 126,
     "metadata": {},
     "output_type": "execute_result"
    }
   ],
   "source": [
    "# 데이터프레임 : 2차원 배열 ( 시리즈가 열로 묶인 배열 )\n",
    "# 인덱스 접근방법 : df.loc[인덱스명], 값이 여러개 df.loc[ [인덱스명, ...] ]\n",
    "# 컬럼 접근 방법 : df[컬럼명]\n",
    "# 원소 접근 방법 : df.loc[인덱스명, 컬럼명],\n",
    "#                  df.iloc[인덱스첨자, 컬럼첨자] \n",
    "# 인덱스 생성 : df.index = [ 인덱스명, ...]\n",
    "# 특정 컬럼을 인덱스로 : df.set_index(컬럼명, inplace=True)\n",
    "# 인덱스 초기화 : df.reset_index(inplace=True)\n",
    "# 인덱스 재배열 : df.reindex([인덱스명, ...])\n",
    "# 인덱스 삭제 : df.drop(index=[인덱스명])\n",
    "# 컬럼 삭제 : df.drop(columns=[컬럼명], axis=1)\n",
    "print(df2); print()\n",
    "print(df2.iloc[0:2,1:3]); print()\n",
    "print(df2.iloc[:2,:])\n",
    "print(df2.iloc[:,:])\n",
    "\n",
    "# index를 기준으로 정렬 : df.sort_index(inplace=True) ascending=True 오름차순\n",
    "df2.sort_index(inplace=True)\n",
    "print(df2); print()\n",
    "\n",
    "# value를 기준으로 정렬 : df.sort_values(by=컬럼명, ascending=False) 내림차순\n",
    "df2.sort_values(by='수학',ascending=False,inplace=True)\n",
    "print(df2); print()"
   ]
  },
  {
   "cell_type": "code",
   "execution_count": 129,
   "id": "6cf444a5",
   "metadata": {},
   "outputs": [
    {
     "name": "stdout",
     "output_type": "stream",
     "text": [
      "   a\n",
      "C  1\n",
      "A  2\n",
      "b  3\n",
      "d  4\n",
      "   a\n",
      "A  2\n",
      "b  3\n",
      "C  1\n",
      "d  4\n"
     ]
    }
   ],
   "source": [
    "df = pd.DataFrame({\"a\": [1, 2, 3, 4]}, index=[ 'C', 'A', 'b', 'd'])\n",
    "print(df)\n",
    "print(df.sort_index(key=lambda x: x.str.lower()))"
   ]
  },
  {
   "cell_type": "code",
   "execution_count": 133,
   "id": "e0aa001a",
   "metadata": {},
   "outputs": [
    {
     "name": "stdout",
     "output_type": "stream",
     "text": [
      "     민아   서준  우현   철수\n",
      "수학   70   90  80  100\n",
      "영어   95   98  89   80\n",
      "음악  100   85  95   98\n",
      "체육   90  100  90   77\n",
      "국어   90  100  80   90\n",
      "     수학  영어   음악   체육   국어\n",
      "민아   70  95  100   90   90\n",
      "서준   90  98   85  100  100\n",
      "우현   80  89   95   90   80\n",
      "철수  100  80   98   77   90\n"
     ]
    }
   ],
   "source": [
    "df_t = df2.transpose()\n",
    "print(df_t)\n",
    "print(df2)"
   ]
  },
  {
   "cell_type": "code",
   "execution_count": 146,
   "id": "6271d7ae",
   "metadata": {},
   "outputs": [
    {
     "data": {
      "text/html": [
       "<div>\n",
       "<style scoped>\n",
       "    .dataframe tbody tr th:only-of-type {\n",
       "        vertical-align: middle;\n",
       "    }\n",
       "\n",
       "    .dataframe tbody tr th {\n",
       "        vertical-align: top;\n",
       "    }\n",
       "\n",
       "    .dataframe thead th {\n",
       "        text-align: right;\n",
       "    }\n",
       "</style>\n",
       "<table border=\"1\" class=\"dataframe\">\n",
       "  <thead>\n",
       "    <tr style=\"text-align: right;\">\n",
       "      <th></th>\n",
       "      <th>수학</th>\n",
       "      <th>영어</th>\n",
       "      <th>음악</th>\n",
       "      <th>체육</th>\n",
       "      <th>국어</th>\n",
       "    </tr>\n",
       "  </thead>\n",
       "  <tbody>\n",
       "    <tr>\n",
       "      <th>서준</th>\n",
       "      <td>90</td>\n",
       "      <td>98</td>\n",
       "      <td>85</td>\n",
       "      <td>100</td>\n",
       "      <td>100</td>\n",
       "    </tr>\n",
       "    <tr>\n",
       "      <th>우현</th>\n",
       "      <td>80</td>\n",
       "      <td>89</td>\n",
       "      <td>95</td>\n",
       "      <td>90</td>\n",
       "      <td>80</td>\n",
       "    </tr>\n",
       "    <tr>\n",
       "      <th>민아</th>\n",
       "      <td>70</td>\n",
       "      <td>95</td>\n",
       "      <td>100</td>\n",
       "      <td>90</td>\n",
       "      <td>90</td>\n",
       "    </tr>\n",
       "    <tr>\n",
       "      <th>철수</th>\n",
       "      <td>100</td>\n",
       "      <td>80</td>\n",
       "      <td>98</td>\n",
       "      <td>77</td>\n",
       "      <td>90</td>\n",
       "    </tr>\n",
       "    <tr>\n",
       "      <th>a</th>\n",
       "      <td>0</td>\n",
       "      <td>0</td>\n",
       "      <td>0</td>\n",
       "      <td>0</td>\n",
       "      <td>0</td>\n",
       "    </tr>\n",
       "  </tbody>\n",
       "</table>\n",
       "</div>"
      ],
      "text/plain": [
       "     수학  영어   음악   체육   국어\n",
       "서준   90  98   85  100  100\n",
       "우현   80  89   95   90   80\n",
       "민아   70  95  100   90   90\n",
       "철수  100  80   98   77   90\n",
       "a     0   0    0    0    0"
      ]
     },
     "execution_count": 146,
     "metadata": {},
     "output_type": "execute_result"
    }
   ],
   "source": [
    "df2.reindex(['서준','우현','민아','철수','a'],fill_value=0)"
   ]
  },
  {
   "cell_type": "code",
   "execution_count": 200,
   "id": "cc2e4dc2",
   "metadata": {},
   "outputs": [
    {
     "name": "stdout",
     "output_type": "stream",
     "text": [
      "국어    100\n",
      "수학     90\n",
      "영어     90\n",
      "dtype: int64\n",
      "\n",
      "국어    200\n",
      "수학    190\n",
      "영어    190\n",
      "dtype: int64\n",
      "\n",
      "국어    1.0\n",
      "수학    0.9\n",
      "영어    0.9\n",
      "dtype: float64\n"
     ]
    }
   ],
   "source": [
    "# 시리즈 연산 : 시리즈 + 사칙연산 + 숫자\n",
    "sr1 = pd.Series({'국어':100, '수학':90, '영어':90})\n",
    "print(sr1); print()\n",
    "\n",
    "# 각 점수에 100을 더한 값을 출력\n",
    "print(sr1+100); print()\n",
    "\n",
    "# 각 점수에 100을 나눈 값을 출력\n",
    "print(sr1/100)"
   ]
  },
  {
   "cell_type": "code",
   "execution_count": 201,
   "id": "64eb4ffb",
   "metadata": {},
   "outputs": [
    {
     "name": "stdout",
     "output_type": "stream",
     "text": [
      "과학      NaN\n",
      "국어    190.0\n",
      "수학    180.0\n",
      "영어    190.0\n",
      "dtype: float64\n",
      "\n",
      "과학     90.0\n",
      "국어    190.0\n",
      "수학    180.0\n",
      "영어    190.0\n",
      "dtype: float64\n"
     ]
    }
   ],
   "source": [
    "# 시리즈 + 사칙연산 + 시리즈\n",
    "sr1 = pd.Series({'국어':100, '수학':90, '영어':90})\n",
    "sr2 = pd.Series({'영어':100, '국어':90, '수학':90, '과학':90})\n",
    "print(sr1 + sr2); print()\n",
    "\n",
    "print(sr1.add(sr2,fill_value=0)) # fill_value에 값을 넣어 NaN해결"
   ]
  },
  {
   "cell_type": "code",
   "execution_count": 169,
   "id": "cf8e883a",
   "metadata": {},
   "outputs": [
    {
     "name": "stdout",
     "output_type": "stream",
     "text": [
      "   survived  pclass     sex   age  sibsp  parch     fare embarked  class  \\\n",
      "0         0       3    male  22.0      1      0   7.2500        S  Third   \n",
      "1         1       1  female  38.0      1      0  71.2833        C  First   \n",
      "2         1       3  female  26.0      0      0   7.9250        S  Third   \n",
      "3         1       1  female  35.0      1      0  53.1000        S  First   \n",
      "4         0       3    male  35.0      0      0   8.0500        S  Third   \n",
      "\n",
      "     who  adult_male deck  embark_town alive  alone  \n",
      "0    man        True  NaN  Southampton    no  False  \n",
      "1  woman       False    C    Cherbourg   yes  False  \n",
      "2  woman       False  NaN  Southampton   yes   True  \n",
      "3  woman       False    C  Southampton   yes  False  \n",
      "4    man        True  NaN  Southampton    no   True  \n",
      "    age     fare\n",
      "0  22.0   7.2500\n",
      "1  38.0  71.2833\n",
      "2  26.0   7.9250\n",
      "3  35.0  53.1000\n",
      "4  35.0   8.0500\n"
     ]
    }
   ],
   "source": [
    "# 데이터프레임 연산\n",
    "import seaborn as sns\n",
    "\n",
    "df = sns.load_dataset('titanic')\n",
    "print(df.head())\n",
    "df = df[['age','fare']]\n",
    "print(df.head())"
   ]
  },
  {
   "cell_type": "code",
   "execution_count": 175,
   "id": "2b90fc98",
   "metadata": {},
   "outputs": [
    {
     "name": "stdout",
     "output_type": "stream",
     "text": [
      "    age     fare\n",
      "0  22.0   7.2500\n",
      "1  38.0  71.2833\n",
      "2  26.0   7.9250\n",
      "3  35.0  53.1000\n",
      "4  35.0   8.0500\n",
      "\n",
      "      age   fare\n",
      "886  27.0  13.00\n",
      "887  19.0  30.00\n",
      "888   NaN  23.45\n",
      "889  26.0  30.00\n",
      "890  32.0   7.75\n",
      "\n",
      "   index   age     fare\n",
      "0      0  22.0   7.2500\n",
      "1      1  38.0  71.2833\n",
      "2      2  26.0   7.9250\n",
      "3      3  35.0  53.1000\n",
      "4      4  35.0   8.0500\n",
      "\n",
      "   index   age   fare\n",
      "0    886  27.0  13.00\n",
      "1    887  19.0  30.00\n",
      "2    888   NaN  23.45\n",
      "3    889  26.0  30.00\n",
      "4    890  32.0   7.75\n",
      "\n",
      "    age     fare\n",
      "0  22.0   7.2500\n",
      "1  38.0  71.2833\n",
      "2  26.0   7.9250\n",
      "3  35.0  53.1000\n",
      "4  35.0   8.0500\n",
      "\n",
      "    age   fare\n",
      "0  27.0  13.00\n",
      "1  19.0  30.00\n",
      "2   NaN  23.45\n",
      "3  26.0  30.00\n",
      "4  32.0   7.75\n",
      "\n"
     ]
    }
   ],
   "source": [
    "df1 = df.head().copy()\n",
    "df2 = df.tail().copy()\n",
    "print(df1); print()\n",
    "print(df2); print()\n",
    "\n",
    "df1.reset_index(inplace=True)\n",
    "df2.reset_index(inplace=True)\n",
    "print(df1); print()\n",
    "print(df2); print()\n",
    "\n",
    "df1.drop(columns='index',axis=1,inplace=True)\n",
    "df2.drop(columns='index',axis=1,inplace=True)\n",
    "print(df1); print()\n",
    "print(df2); print()"
   ]
  },
  {
   "cell_type": "code",
   "execution_count": 176,
   "id": "51064e9a",
   "metadata": {},
   "outputs": [
    {
     "data": {
      "text/html": [
       "<div>\n",
       "<style scoped>\n",
       "    .dataframe tbody tr th:only-of-type {\n",
       "        vertical-align: middle;\n",
       "    }\n",
       "\n",
       "    .dataframe tbody tr th {\n",
       "        vertical-align: top;\n",
       "    }\n",
       "\n",
       "    .dataframe thead th {\n",
       "        text-align: right;\n",
       "    }\n",
       "</style>\n",
       "<table border=\"1\" class=\"dataframe\">\n",
       "  <thead>\n",
       "    <tr style=\"text-align: right;\">\n",
       "      <th></th>\n",
       "      <th>age</th>\n",
       "      <th>fare</th>\n",
       "    </tr>\n",
       "  </thead>\n",
       "  <tbody>\n",
       "    <tr>\n",
       "      <th>0</th>\n",
       "      <td>49.0</td>\n",
       "      <td>20.2500</td>\n",
       "    </tr>\n",
       "    <tr>\n",
       "      <th>1</th>\n",
       "      <td>57.0</td>\n",
       "      <td>101.2833</td>\n",
       "    </tr>\n",
       "    <tr>\n",
       "      <th>2</th>\n",
       "      <td>NaN</td>\n",
       "      <td>31.3750</td>\n",
       "    </tr>\n",
       "    <tr>\n",
       "      <th>3</th>\n",
       "      <td>61.0</td>\n",
       "      <td>83.1000</td>\n",
       "    </tr>\n",
       "    <tr>\n",
       "      <th>4</th>\n",
       "      <td>67.0</td>\n",
       "      <td>15.8000</td>\n",
       "    </tr>\n",
       "  </tbody>\n",
       "</table>\n",
       "</div>"
      ],
      "text/plain": [
       "    age      fare\n",
       "0  49.0   20.2500\n",
       "1  57.0  101.2833\n",
       "2   NaN   31.3750\n",
       "3  61.0   83.1000\n",
       "4  67.0   15.8000"
      ]
     },
     "execution_count": 176,
     "metadata": {},
     "output_type": "execute_result"
    }
   ],
   "source": [
    "df1 + df2"
   ]
  },
  {
   "cell_type": "code",
   "execution_count": 178,
   "id": "04f0339c",
   "metadata": {},
   "outputs": [
    {
     "name": "stdout",
     "output_type": "stream",
     "text": [
      "['anagrams', 'anscombe', 'attention', 'brain_networks', 'car_crashes', 'diamonds', 'dots', 'exercise', 'flights', 'fmri', 'gammas', 'geyser', 'iris', 'mpg', 'penguins', 'planets', 'taxis', 'tips', 'titanic']\n"
     ]
    }
   ],
   "source": [
    "# seaborn 에서 제공하는 데이터셋 확인\n",
    "print(sns.get_dataset_names())"
   ]
  },
  {
   "cell_type": "code",
   "execution_count": 185,
   "id": "ccd679d1",
   "metadata": {},
   "outputs": [
    {
     "name": "stdout",
     "output_type": "stream",
     "text": [
      "   sepal_length  sepal_width  petal_length  petal_width species\n",
      "0           5.1          3.5           1.4          0.2  setosa\n",
      "1           4.9          3.0           1.4          0.2  setosa\n",
      "2           4.7          3.2           1.3          0.2  setosa\n",
      "3           4.6          3.1           1.5          0.2  setosa\n",
      "4           5.0          3.6           1.4          0.2  setosa\n",
      "<class 'pandas.core.frame.DataFrame'>\n",
      "RangeIndex: 150 entries, 0 to 149\n",
      "Data columns (total 5 columns):\n",
      " #   Column        Non-Null Count  Dtype  \n",
      "---  ------        --------------  -----  \n",
      " 0   sepal_length  150 non-null    float64\n",
      " 1   sepal_width   150 non-null    float64\n",
      " 2   petal_length  150 non-null    float64\n",
      " 3   petal_width   150 non-null    float64\n",
      " 4   species       150 non-null    object \n",
      "dtypes: float64(4), object(1)\n",
      "memory usage: 6.0+ KB\n",
      "     sepal_length  sepal_width  petal_length  petal_width    species\n",
      "145           6.7          3.0           5.2          2.3  virginica\n",
      "146           6.3          2.5           5.0          1.9  virginica\n",
      "147           6.5          3.0           5.2          2.0  virginica\n",
      "148           6.2          3.4           5.4          2.3  virginica\n",
      "149           5.9          3.0           5.1          1.8  virginica\n",
      "       sepal_length  sepal_width  petal_length  petal_width\n",
      "count    150.000000   150.000000    150.000000   150.000000\n",
      "mean       5.843333     3.057333      3.758000     1.199333\n",
      "std        0.828066     0.435866      1.765298     0.762238\n",
      "min        4.300000     2.000000      1.000000     0.100000\n",
      "25%        5.100000     2.800000      1.600000     0.300000\n",
      "50%        5.800000     3.000000      4.350000     1.300000\n",
      "75%        6.400000     3.300000      5.100000     1.800000\n",
      "max        7.900000     4.400000      6.900000     2.500000\n",
      "Index(['sepal_length', 'sepal_width', 'petal_length', 'petal_width',\n",
      "       'species'],\n",
      "      dtype='object')\n"
     ]
    }
   ],
   "source": [
    "# seaborn 에서 제공하는 데이터세을 불러와서 작업\n",
    "# sns.load_dataset(데이터셋명)\n",
    "df = sns.load_dataset('iris')\n",
    "print(df.head()) # 처음 5개의 데이터 확인\n",
    "df.info() # 데이터프레임의 구조 확인, 각 칼럼의 자료 타입, 데이터의 총 갯수\n",
    "print(df.tail()) # 마지막 5개의 데이터 확인\n",
    "print(df.describe()) # 간단한 통계정보 확인\n",
    "print(df.columns)"
   ]
  },
  {
   "cell_type": "code",
   "execution_count": 199,
   "id": "bb08120a",
   "metadata": {
    "scrolled": false
   },
   "outputs": [
    {
     "name": "stdout",
     "output_type": "stream",
     "text": [
      "    mpg  cylinders  displacement  horsepower  weight  acceleration  \\\n",
      "0  18.0          8         307.0       130.0    3504          12.0   \n",
      "1  15.0          8         350.0       165.0    3693          11.5   \n",
      "2  18.0          8         318.0       150.0    3436          11.0   \n",
      "3  16.0          8         304.0       150.0    3433          12.0   \n",
      "4  17.0          8         302.0       140.0    3449          10.5   \n",
      "\n",
      "   model_year origin                       name  \n",
      "0          70    usa  chevrolet chevelle malibu  \n",
      "1          70    usa          buick skylark 320  \n",
      "2          70    usa         plymouth satellite  \n",
      "3          70    usa              amc rebel sst  \n",
      "4          70    usa                ford torino  \n",
      "Index(['mpg', 'cylinders', 'displacement', 'horsepower', 'weight',\n",
      "       'acceleration', 'model_year', 'origin', 'name'],\n",
      "      dtype='object')\n",
      "<class 'pandas.core.frame.DataFrame'>\n",
      "RangeIndex: 398 entries, 0 to 397\n",
      "Data columns (total 9 columns):\n",
      " #   Column        Non-Null Count  Dtype  \n",
      "---  ------        --------------  -----  \n",
      " 0   mpg           398 non-null    float64\n",
      " 1   cylinders     398 non-null    int64  \n",
      " 2   displacement  398 non-null    float64\n",
      " 3   horsepower    392 non-null    float64\n",
      " 4   weight        398 non-null    int64  \n",
      " 5   acceleration  398 non-null    float64\n",
      " 6   model_year    398 non-null    int64  \n",
      " 7   origin        398 non-null    object \n",
      " 8   name          398 non-null    object \n",
      "dtypes: float64(4), int64(3), object(2)\n",
      "memory usage: 28.1+ KB\n",
      "RangeIndex(start=0, stop=398, step=1)\n",
      "    cylinders  weight  model_year\n",
      "9           8    3850          70\n",
      "10          8    3563          70\n",
      "11          8    3609          70\n",
      "12          8    3761          70\n",
      "13          8    3086          70\n",
      "..        ...     ...         ...\n",
      "95          8    4951          73\n",
      "96          8    3821          73\n",
      "97          6    3121          73\n",
      "98          6    3278          73\n",
      "99          6    2945          73\n",
      "\n",
      "[91 rows x 3 columns]\n",
      "    cylinders  weight  model_year\n",
      "9           8    3850          70\n",
      "10          8    3563          70\n",
      "11          8    3609          70\n",
      "12          8    3761          70\n",
      "13          8    3086          70\n",
      "..        ...     ...         ...\n",
      "95          8    4951          73\n",
      "96          8    3821          73\n",
      "97          6    3121          73\n",
      "98          6    3278          73\n",
      "99          6    2945          73\n",
      "\n",
      "[91 rows x 3 columns]\n"
     ]
    }
   ],
   "source": [
    "# mpg 데이터 셋을 불러와서 처음 5개의 데이터를 확인\n",
    "df = sns.load_dataset('mpg')\n",
    "print(df.head())\n",
    "# mpg의 컬럼명 확인\n",
    "print(df.columns)\n",
    "# mpg에서 int인 컬럼만 10번째 부터 100번째 까지의 자료만 추출\n",
    "df.info()\n",
    "print(df.index)\n",
    "df1 = df.loc[9:99,['cylinders','weight','model_year']].copy()\n",
    "print(df1)\n",
    "df2 = df.iloc[9:100,[1,4,6]].copy()\n",
    "print(df2)"
   ]
  },
  {
   "cell_type": "code",
   "execution_count": 208,
   "id": "ad2d29cc",
   "metadata": {},
   "outputs": [
    {
     "data": {
      "text/html": [
       "<div>\n",
       "<style scoped>\n",
       "    .dataframe tbody tr th:only-of-type {\n",
       "        vertical-align: middle;\n",
       "    }\n",
       "\n",
       "    .dataframe tbody tr th {\n",
       "        vertical-align: top;\n",
       "    }\n",
       "\n",
       "    .dataframe thead th {\n",
       "        text-align: right;\n",
       "    }\n",
       "</style>\n",
       "<table border=\"1\" class=\"dataframe\">\n",
       "  <thead>\n",
       "    <tr style=\"text-align: right;\">\n",
       "      <th></th>\n",
       "      <th>cylinders</th>\n",
       "      <th>weight</th>\n",
       "      <th>model_year</th>\n",
       "    </tr>\n",
       "  </thead>\n",
       "  <tbody>\n",
       "    <tr>\n",
       "      <th>10</th>\n",
       "      <td>8</td>\n",
       "      <td>3563</td>\n",
       "      <td>70</td>\n",
       "    </tr>\n",
       "    <tr>\n",
       "      <th>11</th>\n",
       "      <td>8</td>\n",
       "      <td>3609</td>\n",
       "      <td>70</td>\n",
       "    </tr>\n",
       "    <tr>\n",
       "      <th>12</th>\n",
       "      <td>8</td>\n",
       "      <td>3761</td>\n",
       "      <td>70</td>\n",
       "    </tr>\n",
       "    <tr>\n",
       "      <th>13</th>\n",
       "      <td>8</td>\n",
       "      <td>3086</td>\n",
       "      <td>70</td>\n",
       "    </tr>\n",
       "    <tr>\n",
       "      <th>14</th>\n",
       "      <td>4</td>\n",
       "      <td>2372</td>\n",
       "      <td>70</td>\n",
       "    </tr>\n",
       "    <tr>\n",
       "      <th>...</th>\n",
       "      <td>...</td>\n",
       "      <td>...</td>\n",
       "      <td>...</td>\n",
       "    </tr>\n",
       "    <tr>\n",
       "      <th>96</th>\n",
       "      <td>8</td>\n",
       "      <td>3821</td>\n",
       "      <td>73</td>\n",
       "    </tr>\n",
       "    <tr>\n",
       "      <th>97</th>\n",
       "      <td>6</td>\n",
       "      <td>3121</td>\n",
       "      <td>73</td>\n",
       "    </tr>\n",
       "    <tr>\n",
       "      <th>98</th>\n",
       "      <td>6</td>\n",
       "      <td>3278</td>\n",
       "      <td>73</td>\n",
       "    </tr>\n",
       "    <tr>\n",
       "      <th>99</th>\n",
       "      <td>6</td>\n",
       "      <td>2945</td>\n",
       "      <td>73</td>\n",
       "    </tr>\n",
       "    <tr>\n",
       "      <th>100</th>\n",
       "      <td>6</td>\n",
       "      <td>3021</td>\n",
       "      <td>73</td>\n",
       "    </tr>\n",
       "  </tbody>\n",
       "</table>\n",
       "<p>91 rows × 3 columns</p>\n",
       "</div>"
      ],
      "text/plain": [
       "     cylinders  weight  model_year\n",
       "10           8    3563          70\n",
       "11           8    3609          70\n",
       "12           8    3761          70\n",
       "13           8    3086          70\n",
       "14           4    2372          70\n",
       "..         ...     ...         ...\n",
       "96           8    3821          73\n",
       "97           6    3121          73\n",
       "98           6    3278          73\n",
       "99           6    2945          73\n",
       "100          6    3021          73\n",
       "\n",
       "[91 rows x 3 columns]"
      ]
     },
     "execution_count": 208,
     "metadata": {},
     "output_type": "execute_result"
    }
   ],
   "source": [
    "# 컬럼의 데이터 타입이 int64인 컬럼만 검색\n",
    "int_columns = [col for col in df.columns if df[col].dtype =='int64']\n",
    "\n",
    "df.loc[10:100,int_columns] # 원하는 인덱스와 컬럼만 검색"
   ]
  },
  {
   "cell_type": "code",
   "execution_count": null,
   "id": "f50a75b7",
   "metadata": {},
   "outputs": [],
   "source": []
  }
 ],
 "metadata": {
  "kernelspec": {
   "display_name": "Python 3 (ipykernel)",
   "language": "python",
   "name": "python3"
  },
  "language_info": {
   "codemirror_mode": {
    "name": "ipython",
    "version": 3
   },
   "file_extension": ".py",
   "mimetype": "text/x-python",
   "name": "python",
   "nbconvert_exporter": "python",
   "pygments_lexer": "ipython3",
   "version": "3.9.7"
  }
 },
 "nbformat": 4,
 "nbformat_minor": 5
}
